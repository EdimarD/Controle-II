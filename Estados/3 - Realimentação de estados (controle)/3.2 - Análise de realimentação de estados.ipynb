{
 "cells": [
  {
   "cell_type": "markdown",
   "metadata": {},
   "source": [
    "# **Análise da realimentação de estados**\n",
    "Para um sistema\n",
    "$$\n",
    "\\begin{align*}\n",
    "    \\mathbf{\\dot{x}} &= \\mathbf{Ax+B}u\n",
    "\\end{align*}\n",
    "$$\n",
    "se usarmos a lei de controle $u = -\\mathbf{Kx}$, a equação deixará de ter entrada, podendo ser resolvida a partir da condição inicial.\n",
    "\n",
    "$$\n",
    "\\begin{align*}\n",
    "    \\mathbf{\\dot{x}} &= \\mathbf{Ax+B(-Kx)}\\\\\n",
    "    &= \\mathbf{Ax-BKx}\\\\\n",
    "    &= \\mathbf{(A-BK)x}\\\\\n",
    "    \\mathbf{\\dot{x}} &= \\mathbf{A}_m \\mathbf{x}\n",
    "\\end{align*}\n",
    "$$"
   ]
  },
  {
   "cell_type": "markdown",
   "metadata": {},
   "source": [
    "\n",
    "Vamos chamar a matriz $\\mathbf{A}_m$ de \"matriz de malha fechada\". \n",
    "\n",
    "A última equação é uma EDO que não possui entrada, então só tem sentido resolvê-la para uma condição inicial $\\mathbf{x}(0)$ diferente de zero.\n",
    "\n",
    "A condição necessária para que os estados do sistema caminhem para zero em regime permanente é apenas que o sistema em malha fechada seja estável, isto é, **todos** os autovalores da matriz $\\mathbf{A}_m$ devem ter parte real estritamente negativa. \n",
    "\n",
    "A velocidade com que os estados convergem para zero depende dos autovalores de $\\mathbf{A}_m$. Isso é equivalente a satisfazer as condições de overshoot, tempo de acomodação e dominância.\n",
    "\n",
    "Vamos supor que essas condições de projeto estejam definidas em termos de pólos de malha fechada bem selecionados e que esses pólos determinam um polinômio de malha fechada $\\alpha (s)$."
   ]
  },
  {
   "cell_type": "markdown",
   "metadata": {},
   "source": [
    "\n",
    "Sendo assim, o problema de regulação é enunciado como: *achar a matriz $\\mathbf{K}$,  tal que todas as raizes da equação:*\n",
    "$$\n",
    "\\begin{align}\n",
    "    \\det (s\\mathbf{I-A_m})= \\det (s\\mathbf{I-A+BK})=\\alpha (s)\n",
    "\\end{align}\n",
    "$$\n",
    "estejam no semi-plano esquerdo"
   ]
  },
  {
   "cell_type": "markdown",
   "metadata": {},
   "source": [
    "## **Exemplo**\n",
    "\n",
    "<p align=\"center\">\n",
    "<img src=\"Ex7.15.svg\" width=\"90%\">\n",
    "</p>\n",
    "\n",
    "Como os parâmetros do problema não são numéricos, precisamos resolver usando matemática simbólica."
   ]
  },
  {
   "cell_type": "code",
   "execution_count": 1,
   "metadata": {
    "code_folding": [
     0
    ]
   },
   "outputs": [],
   "source": [
    "# Imports\n",
    "import numpy as np\n",
    "import sympy as sp\n",
    "from IPython.display import display, Math\n",
    "from escrever import *\n",
    "esc = escrever()"
   ]
  },
  {
   "cell_type": "code",
   "execution_count": 4,
   "metadata": {
    "code_folding": [
     0
    ]
   },
   "outputs": [],
   "source": [
    "# Define os símbolos\n",
    "w0 = sp.symbols('\\omega_0',real=True)\n",
    "s = sp.symbols('s')\n",
    "k1,k2 = sp.symbols(['k_1','k_2'],real=True)"
   ]
  },
  {
   "cell_type": "code",
   "execution_count": 7,
   "metadata": {
    "code_folding": [
     0
    ],
    "run_control": {
     "marked": false
    }
   },
   "outputs": [
    {
     "data": {
      "text/latex": [
       "$\\displaystyle \\mathbf{A} = \\left[\\begin{matrix}0 & 1\\\\- \\omega_{0}^{2} & 0\\end{matrix}\\right]$"
      ],
      "text/plain": [
       "<IPython.core.display.Math object>"
      ]
     },
     "metadata": {},
     "output_type": "display_data"
    },
    {
     "data": {
      "text/latex": [
       "$\\displaystyle \\mathbf{B} = \\left[\\begin{matrix}0\\\\1\\end{matrix}\\right]$"
      ],
      "text/plain": [
       "<IPython.core.display.Math object>"
      ]
     },
     "metadata": {},
     "output_type": "display_data"
    }
   ],
   "source": [
    "# Define as matrizes do sistema\n",
    "A = sp.Matrix([[0,1],[-w0**2,0]])\n",
    "B = sp.Matrix([[0],[1]])\n",
    "display(Math(r'\\mathbf{A} = ' + sp.latex(A)))\n",
    "display(Math(r'\\mathbf{B} = ' + sp.latex(B)))"
   ]
  },
  {
   "cell_type": "code",
   "execution_count": 8,
   "metadata": {
    "code_folding": [
     0
    ]
   },
   "outputs": [
    {
     "data": {
      "text/latex": [
       "$\\displaystyle \\mathbf{K} = \\left[\\begin{matrix}k_{1} & k_{2}\\end{matrix}\\right]$"
      ],
      "text/plain": [
       "<IPython.core.display.Math object>"
      ]
     },
     "metadata": {},
     "output_type": "display_data"
    }
   ],
   "source": [
    "# Define o vetor de ganhos\n",
    "K = sp.Matrix([k1,k2]).T      # Transpor para virar vetor linha\n",
    "display(Math(r'\\mathbf{K} = ' + sp.latex(K)))"
   ]
  },
  {
   "cell_type": "code",
   "execution_count": 10,
   "metadata": {
    "code_folding": [
     0
    ]
   },
   "outputs": [
    {
     "data": {
      "text/latex": [
       "$\\displaystyle s\\mathbf{I-A+BK = }$"
      ],
      "text/plain": [
       "<IPython.core.display.Math object>"
      ]
     },
     "metadata": {},
     "output_type": "display_data"
    },
    {
     "data": {
      "text/latex": [
       "$\\displaystyle = s\\left[\\begin{matrix}1 & 0\\\\0 & 1\\end{matrix}\\right]-\\left[\\begin{matrix}0 & 1\\\\- \\omega_{0}^{2} & 0\\end{matrix}\\right]+\\left[\\begin{matrix}0\\\\1\\end{matrix}\\right]\\left[\\begin{matrix}k_{1} & k_{2}\\end{matrix}\\right]=$"
      ],
      "text/plain": [
       "<IPython.core.display.Math object>"
      ]
     },
     "metadata": {},
     "output_type": "display_data"
    },
    {
     "data": {
      "text/latex": [
       "$\\displaystyle = \\left[\\begin{matrix}s & 0\\\\0 & s\\end{matrix}\\right]-\\left[\\begin{matrix}0 & 1\\\\- \\omega_{0}^{2} & 0\\end{matrix}\\right]+\\left[\\begin{matrix}0 & 0\\\\k_{1} & k_{2}\\end{matrix}\\right] = $"
      ],
      "text/plain": [
       "<IPython.core.display.Math object>"
      ]
     },
     "metadata": {},
     "output_type": "display_data"
    },
    {
     "data": {
      "text/latex": [
       "$\\displaystyle = \\left[\\begin{matrix}s & -1\\\\\\omega_{0}^{2} + k_{1} & k_{2} + s\\end{matrix}\\right]$"
      ],
      "text/plain": [
       "<IPython.core.display.Math object>"
      ]
     },
     "metadata": {},
     "output_type": "display_data"
    }
   ],
   "source": [
    "# Faz os cálculos\n",
    "Am = A-B@K\n",
    "\n",
    "display(Math(r's\\mathbf{I-A+BK = }'))\n",
    "eq1 = '= s' + sp.latex(sp.eye(2))  # sI\n",
    "eq1 += '-' + sp.latex(A) + '+' + sp.latex(B) + sp.latex(K) +'='\n",
    "eq2 = '= ' + sp.latex(s*sp.eye(2)) + '-'  + sp.latex(A) + '+' + sp.latex(B@K) + ' = '\n",
    "eq3 = '= ' + sp.latex(s*sp.eye(2)-Am)\n",
    "display(Math(eq1))\n",
    "display(Math(eq2))\n",
    "display(Math(eq3))"
   ]
  },
  {
   "cell_type": "code",
   "execution_count": 11,
   "metadata": {
    "code_folding": [
     0
    ]
   },
   "outputs": [
    {
     "data": {
      "text/latex": [
       "$\\displaystyle |s\\mathbf{I}-\\mathbf{A+BK}|=\\omega_{0}^{2} + k_{1} + k_{2} s + s^{2}$"
      ],
      "text/plain": [
       "<IPython.core.display.Math object>"
      ]
     },
     "metadata": {},
     "output_type": "display_data"
    }
   ],
   "source": [
    "# Polinômio de MF\n",
    "p=sp.det(s*sp.eye(2)-Am)\n",
    "display(Math(r'|s\\mathbf{I}-\\mathbf{A+BK}|=' + sp.latex(p) ))"
   ]
  },
  {
   "cell_type": "code",
   "execution_count": 12,
   "metadata": {
    "code_folding": [
     0
    ]
   },
   "outputs": [
    {
     "data": {
      "text/latex": [
       "$\\displaystyle \\alpha(s) = \\left(2 \\omega_{0} + s\\right)^{2} = 4 \\omega_{0}^{2} + 4 \\omega_{0} s + s^{2}$"
      ],
      "text/plain": [
       "<IPython.core.display.Math object>"
      ]
     },
     "metadata": {},
     "output_type": "display_data"
    }
   ],
   "source": [
    "# Polinômio desejado\n",
    "alpha = (s+2*w0)**2\n",
    "display(Math(r'\\alpha(s) = ' + sp.latex(alpha) + ' = ' + sp.latex(sp.expand(alpha))))\n",
    "alpha= sp.expand(alpha)\n"
   ]
  },
  {
   "cell_type": "code",
   "execution_count": 13,
   "metadata": {
    "code_folding": [
     0
    ],
    "run_control": {
     "marked": false
    }
   },
   "outputs": [
    {
     "data": {
      "text/latex": [
       "$\\displaystyle 4 \\omega_{0}^{2} = \\omega_{0}^{2} + k_{1}$"
      ],
      "text/plain": [
       "<IPython.core.display.Math object>"
      ]
     },
     "metadata": {},
     "output_type": "display_data"
    },
    {
     "data": {
      "text/latex": [
       "$\\displaystyle 4 \\omega_{0} = k_{2}$"
      ],
      "text/plain": [
       "<IPython.core.display.Math object>"
      ]
     },
     "metadata": {},
     "output_type": "display_data"
    }
   ],
   "source": [
    "# Igualando os termos em de potência abaixo de 2\n",
    "equacoes=[ sp.Eq(alpha.coeff(s,n),p.coeff(s,n)) for n in (0,1)\n",
    "           ]\n",
    "display(Math(sp.latex(equacoes[0])))\n",
    "display(Math(sp.latex(equacoes[1])))"
   ]
  },
  {
   "cell_type": "code",
   "execution_count": 14,
   "metadata": {
    "code_folding": [
     0
    ]
   },
   "outputs": [
    {
     "data": {
      "text/latex": [
       "$\\displaystyle k_{1} = 3 \\omega_{0}^{2}$"
      ],
      "text/plain": [
       "<IPython.core.display.Math object>"
      ]
     },
     "metadata": {},
     "output_type": "display_data"
    },
    {
     "data": {
      "text/latex": [
       "$\\displaystyle k_{2} = 4 \\omega_{0}$"
      ],
      "text/plain": [
       "<IPython.core.display.Math object>"
      ]
     },
     "metadata": {},
     "output_type": "display_data"
    }
   ],
   "source": [
    "# Solução\n",
    "sol=sp.solve(equacoes,[k1,k2])\n",
    "eq1 = sp.Eq(k1,sol[k1])\n",
    "eq2 = sp.Eq(k2,sol[k2])\n",
    "display(Math(sp.latex(eq1)))\n",
    "display(Math(sp.latex(eq2)))"
   ]
  },
  {
   "cell_type": "markdown",
   "metadata": {},
   "source": [
    "O livro mostra uma simulação da resposta desse sistema para $\\omega_0=1$. Repare que os gráficos mostram, em função do tempo, os dois estados. \n",
    "\n",
    "<p align=\"center\">\n",
    "<img src=\"Fig7.13.svg\" width=\"100%\">\n",
    "</p>\n",
    "\n",
    "Note que nenhum dos gráficos oscila. Isso porque as características dos pólos que foram alocados são válidas para todos os estados e a saída do sistema."
   ]
  },
  {
   "cell_type": "code",
   "execution_count": 2,
   "metadata": {},
   "outputs": [
    {
     "name": "stdout",
     "output_type": "stream",
     "text": [
      "<LinearIOSystem>: sys[3]\n",
      "Inputs (1): ['u[0]']\n",
      "Outputs (2): ['y[0]', 'y[1]']\n",
      "States (2): ['x[0]', 'x[1]']\n",
      "\n",
      "A = [[ 0.  1.]\n",
      "     [-4. -4.]]\n",
      "\n",
      "B = [[0.]\n",
      "     [0.]]\n",
      "\n",
      "C = [[1. 0.]\n",
      "     [0. 1.]]\n",
      "\n",
      "D = [[0.]\n",
      "     [0.]]\n",
      "\n"
     ]
    }
   ],
   "source": [
    "import control as ct\n",
    "import numpy as np\n",
    "\n",
    "w0 = 1.\n",
    "A = np.array([[0,1],[-w0**2,0]])\n",
    "B = np.array([[0],[1]])\n",
    "C = np.array([[1,0],[0,1]])\n",
    "D = np.array([[0],[0]])\n",
    "K = np.array([[3*w0**2,4*w0]])\n",
    "Am = A-B@K\n",
    "Bm = np.zeros((2,1))\n",
    "\n",
    "mf = ct.ss(Am,Bm,C,D)\n",
    "print(mf)"
   ]
  },
  {
   "cell_type": "code",
   "execution_count": 16,
   "metadata": {},
   "outputs": [
    {
     "name": "stdout",
     "output_type": "stream",
     "text": [
      "_____Eigenvalue______ Damping___ Frequency_\n",
      "        -2                     1          2\n",
      "        -2                     1          2\n"
     ]
    }
   ],
   "source": [
    "T= ct.damp(mf)"
   ]
  },
  {
   "cell_type": "code",
   "execution_count": 14,
   "metadata": {},
   "outputs": [
    {
     "data": {
      "text/plain": [
       "[<matplotlib.lines.Line2D at 0x282f5e61d90>,\n",
       " <matplotlib.lines.Line2D at 0x282f5e7bdd0>]"
      ]
     },
     "execution_count": 14,
     "metadata": {},
     "output_type": "execute_result"
    },
    {
     "data": {
      "image/png": "[encoded data removed]",
      "text/plain": [
       "<Figure size 640x480 with 1 Axes>"
      ]
     },
     "metadata": {},
     "output_type": "display_data"
    }
   ],
   "source": [
    "from matplotlib import pyplot as plt\n",
    "t,y = ct.initial_response(mf,5,[10,-7])\n",
    "plt.plot(t,y[0],t,y[1])"
   ]
  },
  {
   "attachments": {},
   "cell_type": "markdown",
   "metadata": {},
   "source": [
    "## Exercício\n",
    "\n",
    "Ache a forma de controlador do sistema\n",
    "$$\n",
    "\\begin{align}\n",
    "    G(s) = \\frac{20}{(s+1)(s+2)}\n",
    "\\end{align}\n",
    "$$\n",
    "\n",
    "Depois, projete um controlador de realimentação de estados que posicione os pólos em $-3\\pm j5$. Faça uma simulação para estados iniciais arbitrários.\n",
    "\n",
    "*Resp:* $\\mathbf{K}=\\left[\\begin{array}{cc} 3 & 32 \\end{array}\\right]$"
   ]
  }
 ],
 "metadata": {
  "kernelspec": {
   "display_name": "Python 3 (ipykernel)",
   "language": "python",
   "name": "python3"
  },
  "language_info": {
   "codemirror_mode": {
    "name": "ipython",
    "version": 3
   },
   "file_extension": ".py",
   "mimetype": "text/x-python",
   "name": "python",
   "nbconvert_exporter": "python",
   "pygments_lexer": "ipython3",
   "version": "3.11.1"
  },
  "vscode": {
   "interpreter": {
    "hash": "e1735dd0795dce195fb98475ccf229151ed44a61fb274eb18cdb7c8302916985"
   }
  }
 },
 "nbformat": 4,
 "nbformat_minor": 2
}
