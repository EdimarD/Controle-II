{
 "cells": [
  {
   "cell_type": "markdown",
   "metadata": {},
   "source": [
    "# **Fórmula de Ackerman**\n",
    "\n",
    "## Problemas mais realistas\n",
    "\n",
    "O exemplo anterior ilustra bem a solução do problema de realimentação de estados. Porém, ele é simples demais:\n",
    "* Ele é de ordem baixa (2). Na prática, os sistemas podem ser de ordem bem mais elevada\n",
    "* Em um problema de ordem mais alta, o trabalho seria muito maior e o método apresentado, inviável\n",
    "* Além disso, em um problema real temos também que nos preocupar com questões numéricas de arredondamento."
   ]
  },
  {
   "cell_type": "markdown",
   "metadata": {},
   "source": [
    "## Forma canônica de controlador\n",
    "\n",
    "A primeira forma de lidar com problemas de ordem mais alta é transformar o sistema para forma canônica de controlador. \n",
    "\n",
    "Usar essa forma é vantajoso porque ela simplifica as equações dos ganhos na hora que igualamos os polinômios desejado e de projeto. Isso permite encontrar os ganhos com equações mais simples, geralmente fazendo substituições sucessivas.\n",
    "\n",
    "Normalmente, a forma mais fácil de mudar para a forma de controlador é achando a função de transferência do sistema e usando as regras práticas de inspeção do numerador e denominador. \n",
    "\n",
    "Isso pode ser um pouco trabalhoso para sistemas de ordem elevada."
   ]
  },
  {
   "cell_type": "markdown",
   "metadata": {},
   "source": [
    "## Método de Ackermann\n",
    "\n",
    "Uma maneira mais direta e geral de projetar a realimentação de estados é usar o método de Ackerman. Ele consiste de aplicar a expressão:\n",
    "\n",
    "$$\n",
    "\\begin{align}\n",
    "    \\mathbf{K} = \\left[\\begin{array}{ccccc}0&0&\\ldots & 0 & 1\\end{array}\\right]\\mathbf{\\mathcal{C}}^{-1}\\alpha_c(\\mathbf{A})\n",
    "\\end{align}\n",
    "$$\n",
    "onde $\\mathbf{\\mathcal{C}}$ é a matriz de controlabilidade do sistema\n",
    "$$\n",
    "\\begin{align}\n",
    "    \\mathbf{\\mathcal{C}} = \\left[\\begin{array}{ccccc}\\mathbf{B}&\\mathbf{AB}&\\ldots & \\mathbf{A}^{n-2}\\mathbf{B} & \\mathbf{A}^{n-1}\\mathbf{B}\\end{array}\\right]\n",
    "\\end{align}\n",
    "$$\n",
    "e $\\alpha_c(\\mathbf{A})$ é uma matriz construída pela expressão:\n",
    "$$\n",
    "\\begin{align}\n",
    "    \\alpha_c(\\mathbf{A}) = \\mathbf{A}^{n}+\\alpha_1\\mathbf{A}^{n-1}+\\alpha_2\\mathbf{A}^{n-2}+\\ldots++\\alpha_n\\mathbf{I}\n",
    "\\end{align}\n",
    "$$"
   ]
  },
  {
   "cell_type": "markdown",
   "metadata": {},
   "source": [
    "Note que $\\alpha_c(\\mathbf{A})$ é o polinômio de malha fechado desejado, mas no lugar de $s$ temos a matriz $\\mathbf{A}$ de malha aberta do sistema. \n",
    "\n",
    "O método é trabalhoso, mas fácil de implementar no computador. Em Python temos a função \"acker()\" da biblioteca *control* que faz o processo automaticamente (sem precisar fornecer a forma de controlador), que funciona bem para sistemas de até 10a ordem e preferencialmente com pólos de malha fechada não-repetidos.\n",
    "\n",
    "Para problemas mais complexos, recomenda-se o uso da função \"place()\" da biblioteca *control*, ou \"place_poles()\" da biblioteca *scipy.signal*.\n",
    "\n",
    "Nota: essas funções só funcionam para problemas numéricos. Não se recomenda utilizá-las com objetos simbólicos. "
   ]
  },
  {
   "cell_type": "markdown",
   "metadata": {},
   "source": [
    "## Exemplo:\n",
    "\n",
    "<p align=\"center\">\n",
    "<img src=\"Ex7.16.svg\" width=\"80%\">\n",
    "</p>"
   ]
  },
  {
   "cell_type": "code",
   "execution_count": 13,
   "metadata": {
    "code_folding": [
     0
    ]
   },
   "outputs": [],
   "source": [
    "# Imports\n",
    "import numpy as np\n",
    "import sympy as sp\n",
    "from IPython.display import display, Math"
   ]
  },
  {
   "cell_type": "code",
   "execution_count": 14,
   "metadata": {
    "code_folding": [
     0
    ]
   },
   "outputs": [
    {
     "data": {
      "text/latex": [
       "$\\displaystyle \\omega_0 = 1$"
      ],
      "text/plain": [
       "<IPython.core.display.Math object>"
      ]
     },
     "metadata": {},
     "output_type": "display_data"
    },
    {
     "data": {
      "text/latex": [
       "$\\displaystyle \\mathbf{A} = \\left[\\begin{matrix}0 & 1\\\\-1 & 0\\end{matrix}\\right]$"
      ],
      "text/plain": [
       "<IPython.core.display.Math object>"
      ]
     },
     "metadata": {},
     "output_type": "display_data"
    },
    {
     "data": {
      "text/latex": [
       "$\\displaystyle \\mathbf{B} = \\left[\\begin{matrix}0\\\\1\\end{matrix}\\right]$"
      ],
      "text/plain": [
       "<IPython.core.display.Math object>"
      ]
     },
     "metadata": {},
     "output_type": "display_data"
    }
   ],
   "source": [
    "# Declara os parâmetros do problema\n",
    "display(Math(r'\\omega_0 = 1'))\n",
    "w0 = 1\n",
    "# Define as matrizes do sistema\n",
    "A = sp.Matrix([[0,1],[-w0**2,0]])\n",
    "B = sp.Matrix([[0],[1]])\n",
    "display(Math(r'\\mathbf{A} = ' + sp.latex(A)))\n",
    "display(Math(r'\\mathbf{B} = ' + sp.latex(B)))"
   ]
  },
  {
   "cell_type": "code",
   "execution_count": 15,
   "metadata": {
    "code_folding": [
     0
    ]
   },
   "outputs": [
    {
     "data": {
      "text/latex": [
       "$\\displaystyle \\mathbf{AB} = \\left[\\begin{matrix}0 & 1\\\\-1 & 0\\end{matrix}\\right]\\left[\\begin{matrix}0\\\\1\\end{matrix}\\right] = \\left[\\begin{matrix}1\\\\0\\end{matrix}\\right]$"
      ],
      "text/plain": [
       "<IPython.core.display.Math object>"
      ]
     },
     "metadata": {},
     "output_type": "display_data"
    },
    {
     "data": {
      "text/latex": [
       "$\\displaystyle \\mathcal{C} = \\left[\\begin{matrix}0 & 1\\\\1 & 0\\end{matrix}\\right]$"
      ],
      "text/plain": [
       "<IPython.core.display.Math object>"
      ]
     },
     "metadata": {},
     "output_type": "display_data"
    }
   ],
   "source": [
    "# Matriz de controlabilidade\n",
    "C = sp.BlockMatrix([B,A@B])\n",
    "C = sp.Matrix(C)\n",
    "display(Math(r'\\mathbf{AB} = ' + sp.latex(A) + sp.latex(B) + ' = ' + sp.latex(A@B)))\n",
    "display(Math(r'\\mathcal{C} = ' + sp.latex(C)))"
   ]
  },
  {
   "cell_type": "code",
   "execution_count": 16,
   "metadata": {
    "code_folding": [
     0
    ]
   },
   "outputs": [
    {
     "data": {
      "text/latex": [
       "$\\displaystyle \\mathbf{\\mathcal{C}}^{-1} = \\left[\\begin{matrix}0 & 1\\\\1 & 0\\end{matrix}\\right]$"
      ],
      "text/plain": [
       "<IPython.core.display.Math object>"
      ]
     },
     "metadata": {},
     "output_type": "display_data"
    }
   ],
   "source": [
    "# Inversa\n",
    "display(Math(r'\\mathbf{\\mathcal{C}}^{-1} = ' + sp.latex(C.inv())))"
   ]
  },
  {
   "cell_type": "code",
   "execution_count": 17,
   "metadata": {
    "code_folding": [
     0
    ]
   },
   "outputs": [
    {
     "data": {
      "text/latex": [
       "$\\displaystyle \\alpha(s) = s^2+4\\omega_0s+4\\omega_0^2$"
      ],
      "text/plain": [
       "<IPython.core.display.Math object>"
      ]
     },
     "metadata": {},
     "output_type": "display_data"
    }
   ],
   "source": [
    "# Polinômio desejado\n",
    "display(Math(r'\\alpha(s) = s^2+4\\omega_0s+4\\omega_0^2'))"
   ]
  },
  {
   "cell_type": "code",
   "execution_count": 18,
   "metadata": {
    "code_folding": [
     0
    ]
   },
   "outputs": [
    {
     "data": {
      "text/latex": [
       "$\\displaystyle \\alpha(\\mathbf{A}) = \\mathbf{A}^2 + 4\\omega_0\\mathbf{A} + 4\\omega_0^2\\mathbf{I}$"
      ],
      "text/plain": [
       "<IPython.core.display.Math object>"
      ]
     },
     "metadata": {},
     "output_type": "display_data"
    },
    {
     "data": {
      "text/latex": [
       "$\\displaystyle  = \\left[\\begin{matrix}0 & 1\\\\-1 & 0\\end{matrix}\\right]\\left[\\begin{matrix}0 & 1\\\\-1 & 0\\end{matrix}\\right] + 4\\omega_0\\left[\\begin{matrix}0 & 1\\\\-1 & 0\\end{matrix}\\right] + 4\\omega_0^2\\left[\\begin{matrix}1 & 0\\\\0 & 1\\end{matrix}\\right]$"
      ],
      "text/plain": [
       "<IPython.core.display.Math object>"
      ]
     },
     "metadata": {},
     "output_type": "display_data"
    },
    {
     "data": {
      "text/latex": [
       "$\\displaystyle  = \\left[\\begin{matrix}3 & 4\\\\-4 & 3\\end{matrix}\\right]$"
      ],
      "text/plain": [
       "<IPython.core.display.Math object>"
      ]
     },
     "metadata": {},
     "output_type": "display_data"
    }
   ],
   "source": [
    "# Matriz da alpha da fórmula de Ackerman\n",
    "display(Math(r'\\alpha(\\mathbf{A}) = \\mathbf{A}^2 + 4\\omega_0\\mathbf{A} + 4\\omega_0^2\\mathbf{I}' ))\n",
    "Alpha = A@A + 4*w0 * A + 4*w0**2*sp.eye(2)\n",
    "eq1 = r' = ' + sp.latex(A) + sp.latex(A)\n",
    "eq1 += r' + 4\\omega_0' + sp.latex(A)\n",
    "eq1 += r' + 4\\omega_0^2' + sp.latex(sp.eye(2))\n",
    "display(Math(eq1))\n",
    "display(Math(r' = ' + sp.latex(Alpha)))\n"
   ]
  },
  {
   "cell_type": "code",
   "execution_count": 19,
   "metadata": {
    "code_folding": [
     0
    ]
   },
   "outputs": [
    {
     "data": {
      "text/latex": [
       "$\\displaystyle \\mathbf{K} = [0\\quad 1]\\mathbf{\\mathcal{C}}^{-1}\\mathbf{\\alpha(A)}$"
      ],
      "text/plain": [
       "<IPython.core.display.Math object>"
      ]
     },
     "metadata": {},
     "output_type": "display_data"
    },
    {
     "data": {
      "text/latex": [
       "$\\displaystyle \\mathbf{K} = \\left[\\begin{matrix}0 & 1\\end{matrix}\\right]\\left[\\begin{matrix}0 & 1\\\\1 & 0\\end{matrix}\\right]\\left[\\begin{matrix}3 & 4\\\\-4 & 3\\end{matrix}\\right]$"
      ],
      "text/plain": [
       "<IPython.core.display.Math object>"
      ]
     },
     "metadata": {},
     "output_type": "display_data"
    },
    {
     "data": {
      "text/latex": [
       "$\\displaystyle = \\left[\\begin{matrix}1 & 0\\end{matrix}\\right]\\left[\\begin{matrix}3 & 4\\\\-4 & 3\\end{matrix}\\right]$"
      ],
      "text/plain": [
       "<IPython.core.display.Math object>"
      ]
     },
     "metadata": {},
     "output_type": "display_data"
    },
    {
     "data": {
      "text/latex": [
       "$\\displaystyle = \\left[\\begin{matrix}3 & 4\\end{matrix}\\right]$"
      ],
      "text/plain": [
       "<IPython.core.display.Math object>"
      ]
     },
     "metadata": {},
     "output_type": "display_data"
    }
   ],
   "source": [
    "# Fórmula de Ackermann\n",
    "v = sp.Matrix([0,1]).T\n",
    "display(Math(r'\\mathbf{K} = [0\\quad 1]\\mathbf{\\mathcal{C}}^{-1}\\mathbf{\\alpha(A)}'))\n",
    "display(Math(r'\\mathbf{K} = ' + sp.latex(v) + sp.latex(C.inv()) + sp.latex(Alpha)))\n",
    "display(Math(r'= ' + sp.latex(v@C.inv()) + sp.latex(Alpha)))\n",
    "display(Math(r'= ' + sp.latex(v@C.inv()@Alpha)))\n",
    "K = v @ C.inv() @ Alpha "
   ]
  },
  {
   "cell_type": "markdown",
   "metadata": {},
   "source": [
    "Eis um fato interessante: Ackermann permite posicionar os pólos de malha fechada **em qualquer lugar desejado**, mas isso só é possível se a matriz de controlabilidade possuir inversa.\n",
    "\n",
    "No entanto, lembre-se que estamos sob uma hipótese forte de que todos os estados estão disponíveis para realimentação. "
   ]
  },
  {
   "cell_type": "markdown",
   "metadata": {},
   "source": [
    "## Exemplo:\n",
    "<p align=\"center\">\n",
    "<img src=\"Ex7.17.svg\" width=\"80%\">\n",
    "</p>\n",
    "\n",
    "Abaixo apenas o item (b), resolvendo direto com acker()"
   ]
  },
  {
   "cell_type": "code",
   "execution_count": 20,
   "metadata": {
    "code_folding": [
     0
    ]
   },
   "outputs": [],
   "source": [
    "# Imports\n",
    "import control as ct\n",
    "import numpy as np\n",
    "from escrever import *\n",
    "from IPython.display import display, Math\n",
    "esc = escrever()"
   ]
  },
  {
   "cell_type": "code",
   "execution_count": 76,
   "metadata": {},
   "outputs": [],
   "source": [
    "z0 = -5."
   ]
  },
  {
   "cell_type": "code",
   "execution_count": 77,
   "metadata": {
    "code_folding": [
     0
    ]
   },
   "outputs": [
    {
     "data": {
      "text/latex": [
       "$\\displaystyle \\dot{\\mathbf{x}} = \\left[\\begin{array}{rr}-7&1\\\\-12&0\\\\\\end{array}\\right]\\mathbf{x}+\\left[\\begin{array}{r}1.0\\\\5.0\\\\\\end{array}\\right]\\mathbf{u}$"
      ],
      "text/plain": [
       "<IPython.core.display.Math object>"
      ]
     },
     "metadata": {},
     "output_type": "display_data"
    },
    {
     "data": {
      "text/latex": [
       "$\\displaystyle \\mathbf{y} = \\left[\\begin{array}{rr}1&0\\\\\\end{array}\\right]\\mathbf{x} + \\left[\\begin{array}{r}0\\\\\\end{array}\\right]\\mathbf{u}$"
      ],
      "text/plain": [
       "<IPython.core.display.Math object>"
      ]
     },
     "metadata": {},
     "output_type": "display_data"
    }
   ],
   "source": [
    "# Declaração das matrizes e do sistema\n",
    "A = np.array([[-7,1],[-12,0]])\n",
    "B = np.array([[1],[-z0]])\n",
    "C = np.array([[1,0]])\n",
    "D = np.array([[0]])\n",
    "sys = ct.ss(A,B,C,D)\n",
    "esc.sist(A,B,C,D)"
   ]
  },
  {
   "cell_type": "code",
   "execution_count": 78,
   "metadata": {},
   "outputs": [
    {
     "data": {
      "text/latex": [
       "$$\\frac{s + 5}{s^2 + 7 s + 12}$$"
      ],
      "text/plain": [
       "TransferFunction(array([1., 5.]), array([ 1.,  7., 12.]))"
      ]
     },
     "execution_count": 78,
     "metadata": {},
     "output_type": "execute_result"
    }
   ],
   "source": [
    "ct.tf(sys)"
   ]
  },
  {
   "cell_type": "code",
   "execution_count": 79,
   "metadata": {
    "code_folding": [
     0
    ],
    "run_control": {
     "marked": false
    }
   },
   "outputs": [
    {
     "data": {
      "text/latex": [
       "$\\displaystyle \\xi = 0.5,\\quad\\omega_n = 2$"
      ],
      "text/plain": [
       "<IPython.core.display.Math object>"
      ]
     },
     "metadata": {},
     "output_type": "display_data"
    },
    {
     "data": {
      "text/latex": [
       "$\\displaystyle p = (-1+1.7321j)$"
      ],
      "text/plain": [
       "<IPython.core.display.Math object>"
      ]
     },
     "metadata": {},
     "output_type": "display_data"
    }
   ],
   "source": [
    "# Pólos desejados\n",
    "xi = 0.5\n",
    "wn = 2\n",
    "polo = -xi*wn+1j*wn*np.sqrt(1-xi**2)\n",
    "display(Math(r'\\xi = ' + f'{xi}' + r',\\quad\\omega_n = ' + f'{wn}'))\n",
    "display(Math(r'p = ' + f'{np.round(polo,4)}'))"
   ]
  },
  {
   "cell_type": "code",
   "execution_count": 80,
   "metadata": {
    "code_folding": [
     0
    ],
    "run_control": {
     "marked": false
    }
   },
   "outputs": [
    {
     "data": {
      "text/latex": [
       "$\\displaystyle \\mathbf{K} = \\left[\\begin{array}{rr}37.499999999999964&-8.499999999999993\\\\\\end{array}\\right]$"
      ],
      "text/plain": [
       "<IPython.core.display.Math object>"
      ]
     },
     "metadata": {},
     "output_type": "display_data"
    }
   ],
   "source": [
    "# Alocação de polos\n",
    "K = ct.acker(A,B,[polo, np.conj(polo)])\n",
    "display(Math(r'\\mathbf{K} = ' + esc.mat(K)))"
   ]
  },
  {
   "cell_type": "markdown",
   "metadata": {},
   "source": [
    "Execute novamente o código com $z_0=3$ para verificar a variação dos ganhos como no livro. Espera-se que haja um aumento significativo nos ganhos. \n",
    "\n",
    "Quando um polo e um zero tendem a se cancelar, o sistema tende a perder controlabilidade e isso torna os ganhos mais altos e, consequentemente, o controle fica mais \"caro\" (puxa mais energia). Vale a observação do livro:\n",
    "\n",
    "**\"O sistema tem que trabalhar com mais força para conseguir o controle quando a controlabilidade é fraca.\"**\n",
    "\n",
    "Além disso:\n",
    "\n",
    "**\"Mover os polos em um longo caminho requer grandes ganhos.\"**\n",
    "\n",
    "Isso é observado quando um sistema é naturalmente lento e tentamos deixá-lo mais rápido. Isso normalmente resulta em ganhos grandes (em módulo), o que resulta novamente em um controle \"caro\"."
   ]
  },
  {
   "cell_type": "markdown",
   "metadata": {},
   "source": [
    "## Exercício\n",
    "\n",
    "Use Ackermann para projetar um controlador para o sistema\n",
    "$$\n",
    "\\begin{align}\n",
    "    G(s) &= \\frac{30}{s(s+1)^2}\n",
    "\\end{align}\n",
    "$$\n",
    "\n",
    "Posicione os dominantes em $-4\\pm j4$.\n"
   ]
  },
  {
   "cell_type": "code",
   "execution_count": 92,
   "metadata": {},
   "outputs": [
    {
     "name": "stdout",
     "output_type": "stream",
     "text": [
      "[  1.  12.  64. 128.]\n",
      "[[ 10.  63. 128.]]\n"
     ]
    },
    {
     "data": {
      "text/plain": [
       "[<matplotlib.lines.Line2D at 0x2319eb1b2d0>]"
      ]
     },
     "execution_count": 92,
     "metadata": {},
     "output_type": "execute_result"
    },
    {
     "data": {
      "image/png": "[encoded data removed]",
      "text/plain": [
       "<Figure size 640x480 with 1 Axes>"
      ]
     },
     "metadata": {},
     "output_type": "display_data"
    }
   ],
   "source": [
    "A = np.array([[-2, -1, 0],[1,0,0],[0,1,0]])\n",
    "B = np.array([[1],[0],[0]])\n",
    "p = -4\n",
    "polos = [-4+4j,-4-4j,p]\n",
    "alpha = np.poly(polos)\n",
    "print(alpha)\n",
    "K = ct. acker(A,B,polos)\n",
    "print(K)\n",
    "Amf = A-B@K\n",
    "Bmf = np.zeros((3,1))\n",
    "Cmf = np.eye(3)\n",
    "Dmf = np.zeros((3,1))\n",
    "mf = ct.ss(Amf,Bmf,Cmf,Dmf)\n",
    "t,y = ct.initial_response(mf,5,[1,1,1])\n",
    "from matplotlib import pyplot as plt\n",
    "plt.plot(t,y[0])"
   ]
  }
 ],
 "metadata": {
  "kernelspec": {
   "display_name": "Python 3 (ipykernel)",
   "language": "python",
   "name": "python3"
  },
  "language_info": {
   "codemirror_mode": {
    "name": "ipython",
    "version": 3
   },
   "file_extension": ".py",
   "mimetype": "text/x-python",
   "name": "python",
   "nbconvert_exporter": "python",
   "pygments_lexer": "ipython3",
   "version": "3.11.1"
  },
  "vscode": {
   "interpreter": {
    "hash": "e1735dd0795dce195fb98475ccf229151ed44a61fb274eb18cdb7c8302916985"
   }
  }
 },
 "nbformat": 4,
 "nbformat_minor": 2
}
