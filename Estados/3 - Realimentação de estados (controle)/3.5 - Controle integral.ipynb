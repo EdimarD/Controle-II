{
 "cells": [
  {
   "cell_type": "markdown",
   "metadata": {},
   "source": [
    "# Introdução da referência e controle integral"
   ]
  },
  {
   "attachments": {},
   "cell_type": "markdown",
   "metadata": {},
   "source": [
    "Sabemos que um integrador em malha aberta zera o erro de regime permanente (para uma entrada degrau pelo menos) e permite ao sistema rejeitar distúrbios (do tipo degrau). Portanto, a introdução de integradores na malha aberta é um aspecto desejável do projeto. "
   ]
  },
  {
   "attachments": {},
   "cell_type": "markdown",
   "metadata": {},
   "source": [
    "Para introduzir um integrador no espaço de estados, adicionamos um novo estado ao sistema, que representa a integral do erro à referência:\n",
    "$$\n",
    "\\begin{align*}\n",
    "    {e} = \\int (r-y)dt\n",
    "\\end{align*}\n",
    "$$"
   ]
  },
  {
   "attachments": {},
   "cell_type": "markdown",
   "metadata": {},
   "source": [
    "\n",
    "Supondo que $y=\\mathbf{Cx}$, a equação de estado deste novo sinal é:\n",
    "$$\n",
    "\\begin{align*}\n",
    "    \\dot{e} = r-\\mathbf{Cx}\n",
    "\\end{align*}\n",
    "$$"
   ]
  },
  {
   "attachments": {},
   "cell_type": "markdown",
   "metadata": {},
   "source": [
    "Essa última equação aumenta a ordem do sistema em 1. O sistema em malha aberta agora fica:\n",
    "$$\n",
    "\\begin{align*}\n",
    "    \\dot{\\mathbf{x}} &= \\mathbf{Ax}+\\mathbf{B}u\\\\\n",
    "    \\dot{e} &= r-\\mathbf{Cx}\n",
    "\\end{align*}\n",
    "$$"
   ]
  },
  {
   "attachments": {},
   "cell_type": "markdown",
   "metadata": {},
   "source": [
    "Em notação matricial em blocos temos:\n",
    "$$\n",
    "\\begin{align*}\n",
    "    \\left[\\begin{array}{c}\\dot{\\mathbf{x}}\\\\ \\dot{e}\\end{array}\\right]&=\n",
    "    \\left[\\begin{array}{cc}\\mathbf{A} & \\mathbf{0}\\\\-\\mathbf{C} & 0\\end{array}\\right]\\left[\\begin{array}{c}{\\mathbf{x}}\\\\ {e}\\end{array}\\right]+\\left[\\begin{array}{c}\\mathbf{B}\\\\ 0\\end{array}\\right]u+\\left[\\begin{array}{c}\\mathbf{0}\\\\ 1\\end{array}\\right]r\n",
    "\\end{align*}\n",
    "$$\n",
    "\n",
    "Dizemos que o sistema está *aumentado*"
   ]
  },
  {
   "attachments": {},
   "cell_type": "markdown",
   "metadata": {},
   "source": [
    "O algoritmo de controle integral consiste em fazer uma realimentação completa de todos os estados agora definidos.\n",
    "$$\n",
    "\\begin{align*}\n",
    "    u = -\\mathbf{K}_a\\mathbf{x}_a\n",
    "\\end{align*}\n",
    "$$"
   ]
  },
  {
   "attachments": {},
   "cell_type": "markdown",
   "metadata": {},
   "source": [
    "## Escolha dos pólos\n",
    "\n",
    "Perceba que a introdução de um integrador aumenta a ordem do sistema e isso vai requerer a especificação de pólos adicionais. Tente alocar estes pólos em posições estratégicas para não comprometer a dominância dos pólos desejados. "
   ]
  },
  {
   "attachments": {},
   "cell_type": "markdown",
   "metadata": {},
   "source": [
    "## Simulação em malha fechada"
   ]
  },
  {
   "attachments": {},
   "cell_type": "markdown",
   "metadata": {},
   "source": [
    "Com a realimentação do sistema aumentado, as equações em malha fechada serão:\n",
    "\\begin{align}\n",
    "\\dot{\\mathbf{x}} &= \\mathbf{A}_a\\mathbf{x} + \n",
    "\\left[\\begin{array}{c} \\mathbf{0}\\\\ 1 \\end{array}\\right] r\\\\\n",
    "y &= \\mathbf{C}\\mathbf{x}_a\n",
    "\\end{align}"
   ]
  },
  {
   "attachments": {},
   "cell_type": "markdown",
   "metadata": {},
   "source": [
    "Se quisermos simular um ou mais distúrbios, por exemplo $\\mathbf{\\eta}$, basta adicionar colunas apropriadas na matriz de entrada. O caso mais geral seria:\n",
    "\\begin{align}\n",
    "\\dot{\\mathbf{x}} &= (\\mathbf{A}_a-\\mathbf{B}_a\\mathbf{K_a})\\mathbf{x}_a + \n",
    "\\left[\\begin{array}{cc} \\mathbf{0} & \\mathbf{\\Gamma}\\\\ 1 & \\mathbf{0} \\end{array}\\right] \\left[\\begin{array}{c}r\\\\ \\mathbf{\\eta} \\end{array} \\right]\\\\\n",
    "y &= \\mathbf{C}\\mathbf{x}_a + \\mathbf{0}\\left[\\begin{array}{cc}r\\\\ \\mathbf{\\eta} \\end{array} \\right]\n",
    "\\end{align}"
   ]
  },
  {
   "attachments": {},
   "cell_type": "markdown",
   "metadata": {},
   "source": [
    "Perceba que a realimentação de estados é feita através do sinal $u$. O sinal $r$, de referência não deve ser usado para realimentar. "
   ]
  },
  {
   "attachments": {},
   "cell_type": "markdown",
   "metadata": {},
   "source": [
    "## Exemplo:\n",
    "\n",
    "Construa um regulador com controle integral para o sistema\n",
    "$$\n",
    "\\begin{align}\n",
    "    G(s) = \\frac{10}{(s+1)(s+2)}\n",
    "\\end{align}\n",
    "$$\n",
    "para que $\\xi = 0.7$ e $\\omega_n=2$.\n"
   ]
  },
  {
   "cell_type": "code",
   "execution_count": 2,
   "metadata": {
    "code_folding": [
     0
    ],
    "run_control": {
     "marked": false
    }
   },
   "outputs": [],
   "source": [
    "# Imports\n",
    "import numpy as np\n",
    "import control as ct\n",
    "from IPython.display import display, Math\n",
    "from matplotlib import pyplot as plt\n",
    "from escrever import *\n",
    "esc = escrever()"
   ]
  },
  {
   "cell_type": "code",
   "execution_count": 3,
   "metadata": {
    "code_folding": [
     0
    ]
   },
   "outputs": [
    {
     "name": "stdout",
     "output_type": "stream",
     "text": [
      "Pólos do regulador:  [-1.4+1.4283j -1.4-1.4283j -5.6+0.j    ]\n"
     ]
    }
   ],
   "source": [
    "# Polos desejados\n",
    "xi = 0.7\n",
    "wn = 2\n",
    "sigma = xi*wn\n",
    "p = -sigma + 1j*wn*np.sqrt(1-xi**2)\n",
    "p_reg = np.array([p,np.conj(p),-4*sigma])\n",
    "print('Pólos do regulador: ', p_reg.round(4))"
   ]
  },
  {
   "cell_type": "code",
   "execution_count": 4,
   "metadata": {
    "code_folding": [
     0
    ]
   },
   "outputs": [
    {
     "data": {
      "text/latex": [
       "$\\displaystyle \\dot{\\mathbf{x}} = \\left[\\begin{array}{rr}-3&-2\\\\1&0\\\\\\end{array}\\right]\\mathbf{x}+\\left[\\begin{array}{r}1\\\\0\\\\\\end{array}\\right]\\mathbf{u}$"
      ],
      "text/plain": [
       "<IPython.core.display.Math object>"
      ]
     },
     "metadata": {},
     "output_type": "display_data"
    },
    {
     "data": {
      "text/latex": [
       "$\\displaystyle \\mathbf{y} = \\left[\\begin{array}{rr}0&10\\\\\\end{array}\\right]\\mathbf{x} + \\left[\\begin{array}{r}0.0\\\\\\end{array}\\right]\\mathbf{u}$"
      ],
      "text/plain": [
       "<IPython.core.display.Math object>"
      ]
     },
     "metadata": {},
     "output_type": "display_data"
    }
   ],
   "source": [
    "# Matrizes do sistema em FCC\n",
    "A = np.array([[-3,-2],[1,0]])\n",
    "B = np.array([[1],[0]])\n",
    "C = np.array([[0,10]])\n",
    "D = np.zeros((1,1))\n",
    "\n",
    "sys = ct.ss(A,B,C,D)\n",
    "esc.sist(A,B,C,D)"
   ]
  },
  {
   "cell_type": "code",
   "execution_count": 5,
   "metadata": {
    "code_folding": [
     0
    ]
   },
   "outputs": [
    {
     "data": {
      "text/latex": [
       "$$\\frac{10}{s^2 + 3 s + 2}$$"
      ],
      "text/plain": [
       "TransferFunction(array([10.]), array([1., 3., 2.]))"
      ]
     },
     "execution_count": 5,
     "metadata": {},
     "output_type": "execute_result"
    }
   ],
   "source": [
    "# Função de transf. de malha aberta\n",
    "ct.tf(sys)"
   ]
  },
  {
   "cell_type": "code",
   "execution_count": 6,
   "metadata": {
    "code_folding": [
     0
    ]
   },
   "outputs": [
    {
     "data": {
      "text/latex": [
       "$\\displaystyle \\mathbf{A}_a = \\left[\\begin{array}{rrr}-3.0&-2.0&0.0\\\\1.0&0.0&0.0\\\\0.0&-10.0&0.0\\\\\\end{array}\\right]$"
      ],
      "text/plain": [
       "<IPython.core.display.Math object>"
      ]
     },
     "metadata": {},
     "output_type": "display_data"
    },
    {
     "data": {
      "text/latex": [
       "$\\displaystyle \\mathbf{B}_a = \\left[\\begin{array}{r}1\\\\0\\\\0\\\\\\end{array}\\right]$"
      ],
      "text/plain": [
       "<IPython.core.display.Math object>"
      ]
     },
     "metadata": {},
     "output_type": "display_data"
    }
   ],
   "source": [
    "# Matrizes do sistema aumentado\n",
    "Aa = np.block([[A,np.zeros((2,1))],[-C,0]])           # [F  | 0]\n",
    "Ba = np.block([[B],[0]])\n",
    "display(Math(r'\\mathbf{A}_a = ' + esc.mat(Aa)))\n",
    "display(Math(r'\\mathbf{B}_a = ' + esc.mat(Ba)))\n"
   ]
  },
  {
   "cell_type": "code",
   "execution_count": 7,
   "metadata": {
    "code_folding": [
     0
    ]
   },
   "outputs": [
    {
     "data": {
      "text/latex": [
       "$\\displaystyle \\mathbf{K}_a = \\left[\\begin{array}{rrr}5.4&17.68&-2.24\\\\\\end{array}\\right]$"
      ],
      "text/plain": [
       "<IPython.core.display.Math object>"
      ]
     },
     "metadata": {},
     "output_type": "display_data"
    }
   ],
   "source": [
    "# Regulador com integrador\n",
    "Ka = ct.acker(Aa,Ba,p_reg)\n",
    "display(Math(r'\\mathbf{K}_a = ' + esc.mat(Ka.round(4))))\n"
   ]
  },
  {
   "cell_type": "code",
   "execution_count": 25,
   "metadata": {
    "code_folding": [
     0
    ],
    "run_control": {
     "marked": false
    }
   },
   "outputs": [
    {
     "data": {
      "text/latex": [
       "$\\displaystyle \\dot{\\mathbf{x}} = \\left[\\begin{array}{rrr}-8.4&-19.68&2.24\\\\1.0&0.0&0.0\\\\0.0&-10.0&0.0\\\\\\end{array}\\right]\\mathbf{x}+\\left[\\begin{array}{r}0.0\\\\0.0\\\\1.0\\\\\\end{array}\\right]\\mathbf{u}$"
      ],
      "text/plain": [
       "<IPython.core.display.Math object>"
      ]
     },
     "metadata": {},
     "output_type": "display_data"
    },
    {
     "data": {
      "text/latex": [
       "$\\displaystyle \\mathbf{y} = \\left[\\begin{array}{rrr}0&10&0\\\\\\end{array}\\right]\\mathbf{x} + \\left[\\begin{array}{r}0.0\\\\\\end{array}\\right]\\mathbf{u}$"
      ],
      "text/plain": [
       "<IPython.core.display.Math object>"
      ]
     },
     "metadata": {},
     "output_type": "display_data"
    }
   ],
   "source": [
    "# Sistema em malha fechada\n",
    "Amf = Aa - Ba@Ka\n",
    "Bmf = np.block([[np.zeros((2,1))],[1]])\n",
    "Cmf = np.block([[C,0]])\n",
    "Dmf = np.zeros((1,1))\n",
    "mf = ct.ss(Amf,Bmf,Cmf,Dmf)\n",
    "esc.sist(Amf.round(4),Bmf.round(4),Cmf.round(4),Dmf)"
   ]
  },
  {
   "cell_type": "code",
   "execution_count": 26,
   "metadata": {},
   "outputs": [
    {
     "data": {
      "text/latex": [
       "$$\\frac{-1.066 \\times 10^{-14} s + 22.4}{s^3 + 8.4 s^2 + 19.68 s + 22.4}$$"
      ],
      "text/plain": [
       "TransferFunction(array([-1.0658141e-14,  2.2400000e+01]), array([ 1.  ,  8.4 , 19.68, 22.4 ]))"
      ]
     },
     "execution_count": 26,
     "metadata": {},
     "output_type": "execute_result"
    }
   ],
   "source": [
    "# Função de transf. em malha fechada\n",
    "ct.ss2tf(Amf,Bmf,Cmf,Dmf)"
   ]
  },
  {
   "cell_type": "code",
   "execution_count": 27,
   "metadata": {
    "code_folding": [
     0
    ],
    "run_control": {
     "marked": false
    }
   },
   "outputs": [
    {
     "name": "stdout",
     "output_type": "stream",
     "text": [
      "_____Eigenvalue______ Damping___ Frequency_\n",
      "      -5.6                     1        5.6\n",
      "      -1.4    +1.428j        0.7          2\n",
      "      -1.4    -1.428j        0.7          2\n",
      "Zeros: \n",
      "[]\n",
      "\n"
     ]
    }
   ],
   "source": [
    "# Relatório de polos e zeros em malha fechada\n",
    "tabela=ct.damp(mf)\n",
    "\n",
    "print('Zeros: ')\n",
    "print(round(ct.zeros(mf),4))\n",
    "print('')\n"
   ]
  },
  {
   "cell_type": "code",
   "execution_count": 28,
   "metadata": {
    "code_folding": [
     0
    ]
   },
   "outputs": [],
   "source": [
    "# Simulação em malha fechada (y)\n",
    "resp = ct.step_response(mf,6)"
   ]
  },
  {
   "cell_type": "code",
   "execution_count": 44,
   "metadata": {
    "code_folding": [
     0
    ],
    "run_control": {
     "marked": false
    }
   },
   "outputs": [
    {
     "data": {
      "image/png": "[encoded data removed]",
      "text/plain": [
       "<Figure size 640x480 with 2 Axes>"
      ]
     },
     "metadata": {},
     "output_type": "display_data"
    }
   ],
   "source": [
    "# Plotagem da saída\n",
    "plt.subplot(211)\n",
    "plt.plot(resp.t,resp.outputs)\n",
    "plt.xlabel('Tempo (seg)')\n",
    "plt.ylabel('Saída da planta')\n",
    "plt.title('Resposta ao degrau unitário')\n",
    "plt.grid()\n",
    "# Calcula e plota o sinal de controle\n",
    "u = -Ka@resp.states\n",
    "plt.subplot(212)\n",
    "plt.plot(resp.t,u.T)\n",
    "plt.xlabel('Tempo (seg)')\n",
    "plt.ylabel('Sinal de controle')\n",
    "plt.grid()"
   ]
  },
  {
   "attachments": {},
   "cell_type": "markdown",
   "metadata": {},
   "source": [
    "Para finalizar, vamos analisar o efeito de um distúrbio. Como é o mesmo sistema da aula anterior, vamos aplicar exatamente o mesmo distúrbio."
   ]
  },
  {
   "cell_type": "code",
   "execution_count": 49,
   "metadata": {},
   "outputs": [
    {
     "data": {
      "text/latex": [
       "$\\displaystyle \\dot{\\mathbf{x}} = \\left[\\begin{array}{rrr}-8.4&-19.68&2.24\\\\1.0&0.0&0.0\\\\0.0&-10.0&0.0\\\\\\end{array}\\right]\\mathbf{x}+\\left[\\begin{array}{rr}0.0&0.0\\\\0.0&1.0\\\\1.0&0.0\\\\\\end{array}\\right]\\mathbf{u}$"
      ],
      "text/plain": [
       "<IPython.core.display.Math object>"
      ]
     },
     "metadata": {},
     "output_type": "display_data"
    },
    {
     "data": {
      "text/latex": [
       "$\\displaystyle \\mathbf{y} = \\left[\\begin{array}{rrr}0&10&0\\\\\\end{array}\\right]\\mathbf{x} + \\left[\\begin{array}{rr}0.0&0.0\\\\\\end{array}\\right]\\mathbf{u}$"
      ],
      "text/plain": [
       "<IPython.core.display.Math object>"
      ]
     },
     "metadata": {},
     "output_type": "display_data"
    }
   ],
   "source": [
    "# Simulação de uma perturbação\n",
    "Bmf2 = np.block([Bmf, np.array([[0],[1],[0]])])\n",
    "Dmf2 = np.zeros((Cmf.shape[0],2))\n",
    "mf2 = ct.ss(Amf,Bmf2,Cmf,Dmf2)\n",
    "esc.sist(Amf.round(4),Bmf2.round(4),Cmf.round(4),Dmf2.round(4))"
   ]
  },
  {
   "cell_type": "code",
   "execution_count": 78,
   "metadata": {},
   "outputs": [
    {
     "data": {
      "image/png": "[encoded data removed]",
      "text/plain": [
       "<Figure size 640x480 with 1 Axes>"
      ]
     },
     "metadata": {},
     "output_type": "display_data"
    }
   ],
   "source": [
    "# Criação dos sinais de entrada em MF\n",
    "num_pontos = 500\n",
    "t = np.linspace(0,15,num=num_pontos)\n",
    "deg = lambda t: t>=0\n",
    "u = np.zeros((2,num_pontos))\n",
    "u[0,:] = deg(t)\n",
    "u[1,:] = 0.5*deg(t-5)\n",
    "plt.plot(t,u.T)\n",
    "plt.legend(['ref.', 'disturbio'])\n",
    "plt.show()"
   ]
  },
  {
   "cell_type": "code",
   "execution_count": 79,
   "metadata": {},
   "outputs": [],
   "source": [
    "# Simulação da malha\n",
    "resp = ct.forced_response(mf2,t,u)\n",
    "u = -Ka@resp.states"
   ]
  },
  {
   "cell_type": "code",
   "execution_count": 80,
   "metadata": {},
   "outputs": [
    {
     "data": {
      "image/png": "[encoded data removed]",
      "text/plain": [
       "<Figure size 640x480 with 2 Axes>"
      ]
     },
     "metadata": {},
     "output_type": "display_data"
    }
   ],
   "source": [
    "plt.subplot(211)\n",
    "plt.plot(resp.t,resp.y.T)\n",
    "plt.grid()\n",
    "plt.ylabel('Saída')\n",
    "plt.title('Resposta do sistema a um distúrbio')\n",
    "plt.subplot(212)\n",
    "plt.plot(resp.t,u.T)\n",
    "plt.ylabel('Controle')\n",
    "plt.xlabel('Tempo (seg)')\n",
    "plt.grid()\n",
    "plt.show()"
   ]
  },
  {
   "attachments": {},
   "cell_type": "markdown",
   "metadata": {},
   "source": [
    "Perceba que diferente da estratégia de ganho DC unitário, a saída retorna para o valor correto após o distúrbio. O transitório é um pouco elevado, mas o erro é zerado passado algum tempo. Note também que o esforço de controle após o distúrbio é diferente daquele aplicado antes dele ocorrer. "
   ]
  }
 ],
 "metadata": {
  "kernelspec": {
   "display_name": "Python 3 (ipykernel)",
   "language": "python",
   "name": "python3"
  },
  "language_info": {
   "codemirror_mode": {
    "name": "ipython",
    "version": 3
   },
   "file_extension": ".py",
   "mimetype": "text/x-python",
   "name": "python",
   "nbconvert_exporter": "python",
   "pygments_lexer": "ipython3",
   "version": "3.11.1"
  },
  "vscode": {
   "interpreter": {
    "hash": "3e3763a57b4ffe0d06e963ec4b7f8ef3a748cbfdb342037439726ee83e94c05b"
   }
  }
 },
 "nbformat": 4,
 "nbformat_minor": 4
}
