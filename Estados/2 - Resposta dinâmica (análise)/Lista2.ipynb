{
 "cells": [
  {
   "attachments": {},
   "cell_type": "markdown",
   "metadata": {},
   "source": [
    "# Lista de exercícios 2"
   ]
  },
  {
   "cell_type": "code",
   "execution_count": 492,
   "metadata": {},
   "outputs": [],
   "source": [
    "#\n",
    "import numpy as np\n",
    "from numpy.random import randint, choice\n",
    "from random import sample\n",
    "from IPython.display import display, Math\n",
    "from escrever import *\n",
    "esc = escrever()\n",
    "C1 = np.array(range(-9,10))\n",
    "C2 = np.array(range(-9,10))\n",
    "C2 = C2[C2!=0]\n",
    "def gsis(n,tipo='fcc'):\n",
    "    p = np.array([1, *choice(C1,n)])\n",
    "    d = np.zeros((1,n))\n",
    "    while np.all(d==0):\n",
    "        d = choice(C1,n)\n",
    "    f = np.block([[-p[1:]],[np.eye(n-1), np.zeros((n-1,1))]])\n",
    "    g = np.eye(n,1)\n",
    "    h = np.array([d])\n",
    "    if tipo=='fco':\n",
    "        f = f.T\n",
    "        g = h.T\n",
    "        h = np.eye(1,n)\n",
    "    D = np.array([[0]])\n",
    "    return f.round(4),g.round(4),h.round(4),D.round(4)"
   ]
  },
  {
   "attachments": {},
   "cell_type": "markdown",
   "metadata": {},
   "source": [
    "*1 - Determine **manualmente** a função de transferência do sistema cuja representação de estados é:*"
   ]
  },
  {
   "cell_type": "code",
   "execution_count": 563,
   "metadata": {},
   "outputs": [
    {
     "data": {
      "text/latex": [
       "$\\displaystyle \\dot{\\mathbf{x}} = \\left[\\begin{array}{rr}-5&6\\\\2&3\\\\\\end{array}\\right]\\mathbf{x}+\\left[\\begin{array}{r}0\\\\-5\\\\\\end{array}\\right]\\mathbf{u}$"
      ],
      "text/plain": [
       "<IPython.core.display.Math object>"
      ]
     },
     "metadata": {},
     "output_type": "display_data"
    },
    {
     "data": {
      "text/latex": [
       "$\\displaystyle \\mathbf{y} = \\left[\\begin{array}{rr}6&3\\\\\\end{array}\\right]\\mathbf{x} + \\left[\\begin{array}{r}2\\\\\\end{array}\\right]\\mathbf{u}$"
      ],
      "text/plain": [
       "<IPython.core.display.Math object>"
      ]
     },
     "metadata": {},
     "output_type": "display_data"
    }
   ],
   "source": [
    "# Execute esta célula para gerar o sistema do problema 1\n",
    "n,p,q = (2,1,1)\n",
    "A = choice(C1,size=(n,n))\n",
    "B = np.zeros((n,p))\n",
    "while np.all(B==0):\n",
    "    B = choice(C1,size=(n,p))\n",
    "C = np.zeros((q,n))\n",
    "while np.all(C==0):\n",
    "    C = choice(C1,size=(q,n))\n",
    "D = choice(C1,size=(q,p))\n",
    "esc.sist(A,B,C,D)"
   ]
  },
  {
   "attachments": {},
   "cell_type": "markdown",
   "metadata": {},
   "source": [
    "*2 - Seja o sistema a seguir:*"
   ]
  },
  {
   "cell_type": "code",
   "execution_count": 633,
   "metadata": {},
   "outputs": [
    {
     "data": {
      "text/latex": [
       "$\\displaystyle \\dot{\\mathbf{x}} = \\left[\\begin{array}{rrrr}-2.4&-2.34&-1.08&-0.363\\\\1.0&0.0&0.0&0.0\\\\0.0&1.0&0.0&0.0\\\\0.0&0.0&1.0&0.0\\\\\\end{array}\\right]\\mathbf{x}+\\left[\\begin{array}{r}1\\\\0\\\\0\\\\0\\\\\\end{array}\\right]\\mathbf{u}$"
      ],
      "text/plain": [
       "<IPython.core.display.Math object>"
      ]
     },
     "metadata": {},
     "output_type": "display_data"
    },
    {
     "data": {
      "text/latex": [
       "$\\displaystyle \\mathbf{y} = \\left[\\begin{array}{rrrr}0.0&0.0&0.101&0.181\\\\\\end{array}\\right]\\mathbf{x} + \\left[\\begin{array}{r}0\\\\\\end{array}\\right]\\mathbf{u}$"
      ],
      "text/plain": [
       "<IPython.core.display.Math object>"
      ]
     },
     "metadata": {},
     "output_type": "display_data"
    }
   ],
   "source": [
    "# Sistema do problema 2\n",
    "a = randint(1,4)/10\n",
    "b  = randint(2,8)/10\n",
    "s1 = -a+1j*b\n",
    "s2 = np.conjugate(s1)\n",
    "k = randint(1,10)\n",
    "s3 = -k*a+1j*b\n",
    "s4 = np.conjugate(s3)\n",
    "p = randint(2,10)\n",
    "c = -p*a\n",
    "den = np.poly([s1,s2,s3,s4])\n",
    "num = den[-1]*np.poly([c])*(randint(1,10)/10)/abs(c)\n",
    "A = np.block([[-den[1:]],[np.eye(3), np.zeros((3,1))]])\n",
    "B = np.array([[1],[0],[0],[0]])\n",
    "C = np.block([[np.zeros((1,2)), num]])\n",
    "D = np.array([[0]])\n",
    "esc.sist(A.round(3),B.round(3),C.round(3),D.round(3))"
   ]
  },
  {
   "attachments": {},
   "cell_type": "markdown",
   "metadata": {},
   "source": [
    "*Determine:*\n",
    " - *Todos os pólos e zeros*\n",
    " - *Amortecimentos e frequências naturais*\n",
    "\n",
    "*Se o equilíbrio for estável, determine também:*\n",
    " - *Ganho DC.* \n",
    " - *Os pólos dominantes, justificando sua resposta*\n",
    " - *Overshoot e tempo de acomodação estimados pelos pólos dominantes*\n",
    " - *Simulação de resposta ao degrau, se estável*"
   ]
  },
  {
   "attachments": {},
   "cell_type": "markdown",
   "metadata": {},
   "source": [
    "*3 - Utilizando técnicas de espaço de estados, determine os zeros de transmissão do sistema dado a seguir.*"
   ]
  },
  {
   "cell_type": "code",
   "execution_count": 608,
   "metadata": {},
   "outputs": [
    {
     "data": {
      "text/latex": [
       "$\\displaystyle \\dot{\\mathbf{x}} = \\left[\\begin{array}{rrr}4.0&-8.0&-9.0\\\\1.0&0.0&0.0\\\\0.0&1.0&0.0\\\\\\end{array}\\right]\\mathbf{x}+\\left[\\begin{array}{r}1.0\\\\0.0\\\\0.0\\\\\\end{array}\\right]\\mathbf{u}$"
      ],
      "text/plain": [
       "<IPython.core.display.Math object>"
      ]
     },
     "metadata": {},
     "output_type": "display_data"
    },
    {
     "data": {
      "text/latex": [
       "$\\displaystyle \\mathbf{y} = \\left[\\begin{array}{rrr}0&-1&7\\\\\\end{array}\\right]\\mathbf{x} + \\left[\\begin{array}{r}0\\\\\\end{array}\\right]\\mathbf{u}$"
      ],
      "text/plain": [
       "<IPython.core.display.Math object>"
      ]
     },
     "metadata": {},
     "output_type": "display_data"
    }
   ],
   "source": [
    "# Sistema do problema 3\n",
    "a,b,c,d = gsis(3)\n",
    "esc.sist(a,b,c,d)"
   ]
  },
  {
   "attachments": {},
   "cell_type": "markdown",
   "metadata": {},
   "source": [
    "*4 - Verifique se o sistema a seguir é estável. Caso seja, determine **analiticamente** os estados e o sinal de saída correspondente a uma entrada degrau unitário.* \n"
   ]
  },
  {
   "cell_type": "code",
   "execution_count": 624,
   "metadata": {},
   "outputs": [
    {
     "data": {
      "text/latex": [
       "$\\displaystyle \\dot{\\mathbf{x}} = \\left[\\begin{array}{rrr}-7.0&1.0&0.0\\\\-8.0&0.0&1.0\\\\-7.0&0.0&0.0\\\\\\end{array}\\right]\\mathbf{x}+\\left[\\begin{array}{r}-8\\\\-3\\\\4\\\\\\end{array}\\right]\\mathbf{u}$"
      ],
      "text/plain": [
       "<IPython.core.display.Math object>"
      ]
     },
     "metadata": {},
     "output_type": "display_data"
    },
    {
     "data": {
      "text/latex": [
       "$\\displaystyle \\mathbf{y} = \\left[\\begin{array}{rrr}8&-7&1\\\\\\end{array}\\right]\\mathbf{x} + \\left[\\begin{array}{r}0\\\\\\end{array}\\right]\\mathbf{u}$"
      ],
      "text/plain": [
       "<IPython.core.display.Math object>"
      ]
     },
     "metadata": {},
     "output_type": "display_data"
    }
   ],
   "source": [
    "# Sistema do problema 4\n",
    "a,b,c,d = gsis(3,'fco')\n",
    "c = choice(C1,(1,3))\n",
    "esc.sist(a,b,c,d)"
   ]
  },
  {
   "attachments": {},
   "cell_type": "markdown",
   "metadata": {},
   "source": [
    "5 - Para o sistema \n",
    "$$\n",
    "\\begin{align}\n",
    "    G(s) = \\frac{2(s+a)}{(s+b)(s+c)}\n",
    "\\end{align}\n",
    "$$\n",
    "\n",
    "Encontre as equações de estados na forma canônica de controlador. \n",
    "\n",
    "Resolva analiticamente as equações de estados para uma entrada degrau unitário. \n",
    "\n",
    "Analise o que acontece com os estados e com o sinal de saída quando $a\\approx b$ "
   ]
  }
 ],
 "metadata": {
  "kernelspec": {
   "display_name": "Python 3",
   "language": "python",
   "name": "python3"
  },
  "language_info": {
   "codemirror_mode": {
    "name": "ipython",
    "version": 3
   },
   "file_extension": ".py",
   "mimetype": "text/x-python",
   "name": "python",
   "nbconvert_exporter": "python",
   "pygments_lexer": "ipython3",
   "version": "3.11.1"
  },
  "orig_nbformat": 4
 },
 "nbformat": 4,
 "nbformat_minor": 2
}
