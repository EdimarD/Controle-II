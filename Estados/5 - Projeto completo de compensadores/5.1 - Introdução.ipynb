{
 "cells": [
  {
   "attachments": {},
   "cell_type": "markdown",
   "metadata": {},
   "source": [
    "# **Compensador dinâmico**\n",
    "\n",
    "O compensador dinâmico é a junção do regulador e observador no mesmo sistema."
   ]
  },
  {
   "attachments": {},
   "cell_type": "markdown",
   "metadata": {},
   "source": [
    "A Figura abaixo esquematiza todos os subsistemas e rotas de sinal com a estratégia adotada.\n",
    "<p>\n",
    "<img src=\"Fig7.35.svg\" width=\"80%\">\n",
    "</p>\n",
    "\n",
    "No final, nosso controlador projetado com essas abordagens é um único sistema, cujas equações de estado são:"
   ]
  },
  {
   "attachments": {},
   "cell_type": "markdown",
   "metadata": {},
   "source": [
    "$$ \n",
    "\\begin{align*}\n",
    "    \\dot{\\mathbf{\\hat{x}}} &= \\mathbf{(A-BK-LC)}\\mathbf{\\hat{x}}+\\mathbf{L}y\\\\\n",
    "    u &= \\mathbf{-K}\\mathbf{\\hat{x}}\n",
    "\\end{align*}\n",
    "$$"
   ]
  },
  {
   "attachments": {},
   "cell_type": "markdown",
   "metadata": {},
   "source": [
    "onde $\\hat{\\mathbf{x}}$ é a estimativa dos estados do sistema pelo observador, $\\mathbf{K}$ e $\\mathbf{L}$ são respectivamente os ganhos do regulador e do observador. Note que a entrada do controlador é a saída da planta. Da mesma forma, o sinal de saída do controlador é o sinal de controle $u$, que vai para a entrada da planta. \n",
    "\n",
    "Perceba, que estas duas equações permitem realizar o controlador como um sistema entrada-saída normal, com uma função de transferência que basicamente dispensa as equações de estado, para fins de implementação. Esta função é:\n",
    "\n",
    "$$ \n",
    "\\begin{align*}\n",
    "    C(s) &= -\\mathbf{K}(s\\mathbf{I-A+BK+LC})^{-1}\\mathbf{L}\n",
    "\\end{align*}\n",
    "$$\n"
   ]
  },
  {
   "attachments": {},
   "cell_type": "markdown",
   "metadata": {},
   "source": [
    "### Controle com referência"
   ]
  },
  {
   "attachments": {},
   "cell_type": "markdown",
   "metadata": {},
   "source": [
    "$$ \n",
    "\\begin{align*}\n",
    "    \\dot{\\mathbf{\\hat{x}}} &= \\mathbf{(A-BK-LC)}\\mathbf{\\hat{x}}+\\mathbf{L}y+\\mathbf{B}Nr\\\\\n",
    "    u &= \\mathbf{-K}\\mathbf{\\hat{x}}+Nr\n",
    "\\end{align*}\n",
    "$$"
   ]
  },
  {
   "attachments": {},
   "cell_type": "markdown",
   "metadata": {},
   "source": [
    "### Compensador de rastreamento (com integrador)"
   ]
  },
  {
   "attachments": {},
   "cell_type": "markdown",
   "metadata": {},
   "source": [
    "$$ \n",
    "\\begin{align*}\n",
    "    \\dot{\\mathbf{z}}&= (\\mathbf{A}'-\\mathbf{B}'\\mathbf{K}_a-\\mathbf{L}_0\\mathbf{C}')\\mathbf{z}+\\mathbf{L}_1y+\\mathbf{M}r\\\\\n",
    "    u &= \\mathbf{-K}_a\\mathbf{z}\n",
    "\\end{align*}\n",
    "$$\n",
    "\n",
    "Neste projeto, o observador é projetado para estimar apenas os estados $\\mathbf{x}$ do sistema, isto é, o estado $e$ introduzido pelo integrador **não** é estimado. "
   ]
  },
  {
   "attachments": {},
   "cell_type": "markdown",
   "metadata": {},
   "source": [
    "As matrizes aumentadas são:\n",
    "$$\n",
    "\\begin{align}\n",
    "\\mathbf{A}' &= \\left[\\begin{array}{cc}\n",
    "                     \\mathbf{A} & \\mathbf{0}_{n\\times 1}\\\\\n",
    "                     \\mathbf{0}_{1\\times n} & 0\n",
    "                \\end{array}\\right]\\\\\n",
    "\n",
    "\\mathbf{B}' &= \\left[\\begin{array}{cc}\n",
    "\\mathbf{B} \\\\ {0}\n",
    "\\end{array}\\right]\\\\\n",
    "\n",
    "\\mathbf{C}' &= \\left[\\begin{array}{cc}\n",
    "\\mathbf{C} & {0}\n",
    "\\end{array}\\right]\\\\\n",
    "\n",
    "\\mathbf{L}_0 &= \\left[\\begin{array}{cc}\n",
    "\\mathbf{L} \\\\ {0}\n",
    "\\end{array}\\right]\\\\\n",
    "\n",
    "\\mathbf{L}_1 &= \\left[\\begin{array}{rr}\n",
    "\\mathbf{L} \\\\ {-1}\n",
    "\\end{array}\\right]\\\\\n",
    "\n",
    "\\mathbf{M} &= \\left[\\begin{array}{cc}\n",
    "\\mathbf{0}_{n\\times 1} \\\\ 1\n",
    "\\end{array}\\right]\\\\\n",
    "\n",
    "\\end{align}\n",
    "$$\n",
    "\n"
   ]
  },
  {
   "attachments": {},
   "cell_type": "markdown",
   "metadata": {},
   "source": [
    "## Simulação em malha fechada\n",
    "\n",
    "O sistema completo (planta+controlador) pode ser simulado usando um único conjunto de equações de estados:"
   ]
  },
  {
   "attachments": {},
   "cell_type": "markdown",
   "metadata": {},
   "source": [
    "**Com referência simples:**\n",
    "$$\n",
    "\\begin{align*}\n",
    "\\dot{\\mathbf{x}} &= \\mathbf{A}\\mathbf{x}-\\mathbf{BK}\\mathbf{\\hat{x}}+\\mathbf{B}N\\, r\\\\\n",
    "\\dot{\\mathbf{\\hat{x}}} &= \\mathbf{(A-BK-LC)}\\mathbf{\\hat{x}}+\\mathbf{LCx}+\\mathbf{B}N\\, r\\\\\n",
    "y&= \\mathbf{Cx}\n",
    "\\end{align*}\n",
    "$$"
   ]
  },
  {
   "attachments": {},
   "cell_type": "markdown",
   "metadata": {},
   "source": [
    "Matrizes de malha fechada:\n",
    "$$\n",
    "\\begin{align}\n",
    "\\mathbf{A}_{\\text{mf}} &= \\left[\\begin{array}{cc}\n",
    "    \\mathbf{A} & -\\mathbf{BK}\\\\\n",
    "    \\mathbf{LC} & \\mathbf{A-BK-LC}\n",
    "\\end{array}\\right]\\\\\n",
    "\\mathbf{B}_{\\text{mf}} &= \\left[\\begin{array}{cc}\n",
    "    \\mathbf{B}N \\\\ \\mathbf{B}N\n",
    "\\end{array}\\right]\\\\\n",
    "\\mathbf{C}_{\\text{mf}} &= \\left[\\begin{array}{cc}\n",
    "    \\mathbf{C} & \\mathbf{0}\n",
    "\\end{array}\\right]\\\\\n",
    "\\mathbf{D}_{\\text{mf}} &= 0\n",
    "\\end{align}\n",
    "$$"
   ]
  },
  {
   "attachments": {},
   "cell_type": "markdown",
   "metadata": {},
   "source": [
    "**Com controle integral:**\n",
    "$$\n",
    "\\begin{align*}\n",
    "\\dot{\\mathbf{x}} &= \\mathbf{A}\\mathbf{x}-\\mathbf{B}\\mathbf{K}_a\\mathbf{z}\\\\\n",
    "\\dot{\\mathbf{z}} &= (\\mathbf{A'}-\\mathbf{B'}\\mathbf{K}_a-\\mathbf{L}_0\\mathbf{C}')\\mathbf{z}+\\mathbf{L}_1\\mathbf{C}\\mathbf{x}+\\mathbf{M}\\, r\\\\\n",
    "y&= \\mathbf{Cx}\n",
    "\\end{align*}\n",
    "$$"
   ]
  },
  {
   "attachments": {},
   "cell_type": "markdown",
   "metadata": {},
   "source": [
    "Matrizes de malha fechada:\n",
    "$$\n",
    "\\begin{align}\n",
    "\\mathbf{A}_{\\text{mf}} &= \\left[\\begin{array}{cc}\n",
    "    \\mathbf{A} & -\\mathbf{B}\\mathbf{K}_a\\\\\n",
    "    \\mathbf{L}_1\\mathbf{C} & \\mathbf{A}'-\\mathbf{B}'\\mathbf{K}_a-\\mathbf{L}_0\\mathbf{C}'\n",
    "\\end{array}\\right]\\\\\n",
    "\\mathbf{B}_{\\text{mf}} &= \\left[\\begin{array}{cc}\n",
    "    \\mathbf{0}_{n\\times 1} \\\\ \\mathbf{M}\n",
    "\\end{array}\\right] = \\left[\\begin{array}{cc}\n",
    "    \\mathbf{0}_{2n\\times 1} \\\\ 1\n",
    "\\end{array}\\right]\\\\\n",
    "\\mathbf{C}_{\\text{mf}} &= \\left[\\begin{array}{cc}\n",
    "    \\mathbf{C} & \\mathbf{0}_{1\\times (2n+1)}\n",
    "\\end{array}\\right]\\\\\n",
    "\\mathbf{D}_{\\text{mf}} &= 0\n",
    "\\end{align}\n",
    "$$"
   ]
  },
  {
   "attachments": {},
   "cell_type": "markdown",
   "metadata": {},
   "source": [
    "É possível demonstrar que o polinômio de malha fechada quando usamos um compensador é:\n",
    "$$\n",
    "\\begin{align*}\n",
    "    \\alpha_{\\text{mf}}(s) = \\alpha_{\\text{reg}}(s)\\cdot \\alpha_{\\text{obs}}(s)\n",
    "\\end{align*}\n",
    "$$\n",
    "onde \"mf\", \"reg\" e \"obs\" indicam respectivamente \"malha fechada\", \"regulador\" e \"observador\".\n",
    "\n",
    "Observe que, desta forma, o conjunto de pólos de MF é a união dos pólos do OBS com os pólos do REG, o que permite que os projetos do observador e do regulador sejam feitos de forma independente. Isso é chamado de principío da separação em teoria de controle. "
   ]
  },
  {
   "attachments": {},
   "cell_type": "markdown",
   "metadata": {},
   "source": [
    "<p align=\"center\">\n",
    "<img src=\"Ex7.28.svg\" width=\"80%\">\n",
    "</p>"
   ]
  },
  {
   "cell_type": "code",
   "execution_count": 1,
   "metadata": {
    "code_folding": [
     0
    ],
    "run_control": {
     "marked": false
    }
   },
   "outputs": [],
   "source": [
    "# Imports\n",
    "import numpy as np\n",
    "import control as ct\n",
    "from escrever import *\n",
    "from IPython.display import display, Math\n",
    "esc = escrever()"
   ]
  },
  {
   "cell_type": "code",
   "execution_count": 2,
   "metadata": {
    "code_folding": [
     0
    ]
   },
   "outputs": [
    {
     "data": {
      "text/latex": [
       "$\\displaystyle \\dot{\\mathbf{x}} = \\left[\\begin{array}{rr}0&1\\\\0&0\\\\\\end{array}\\right]\\mathbf{x}+\\left[\\begin{array}{r}0\\\\1\\\\\\end{array}\\right]\\mathbf{u}$"
      ],
      "text/plain": [
       "<IPython.core.display.Math object>"
      ]
     },
     "metadata": {},
     "output_type": "display_data"
    },
    {
     "data": {
      "text/latex": [
       "$\\displaystyle \\mathbf{y} = \\left[\\begin{array}{rr}1&0\\\\\\end{array}\\right]\\mathbf{x} + \\left[\\begin{array}{r}0\\\\\\end{array}\\right]\\mathbf{u}$"
      ],
      "text/plain": [
       "<IPython.core.display.Math object>"
      ]
     },
     "metadata": {},
     "output_type": "display_data"
    }
   ],
   "source": [
    "# Declara o sistema\n",
    "A = np.array([[0,1],[0,0]])\n",
    "B = np.array([[0],[1]])\n",
    "C = np.array([[1,0]])\n",
    "D = np.array([[0]])\n",
    "esc.sist(A,B,C,D)"
   ]
  },
  {
   "cell_type": "code",
   "execution_count": 3,
   "metadata": {
    "code_folding": [
     0
    ]
   },
   "outputs": [
    {
     "data": {
      "text/latex": [
       "$\\displaystyle \\mathbf{K} = \\left[\\begin{array}{rr}0.9997&1.414\\\\\\end{array}\\right]$"
      ],
      "text/plain": [
       "<IPython.core.display.Math object>"
      ]
     },
     "metadata": {},
     "output_type": "display_data"
    }
   ],
   "source": [
    "# Aloca os polos do regulador\n",
    "pr = -0.707+0.707j\n",
    "K = ct.acker(A,B,[pr,np.conj(pr)])\n",
    "display(Math(r'\\mathbf{K} = ' + esc.mat(K.round(decimals=4))))"
   ]
  },
  {
   "attachments": {},
   "cell_type": "markdown",
   "metadata": {},
   "source": [
    "No livro os ganhos são $1$ e $\\sqrt{2}$ exatamente. Você pode conferir com o Python que os resultados decimais estão bem próximos."
   ]
  },
  {
   "cell_type": "code",
   "execution_count": 7,
   "metadata": {},
   "outputs": [
    {
     "data": {
      "text/plain": [
       "0.9996979999999999"
      ]
     },
     "execution_count": 7,
     "metadata": {},
     "output_type": "execute_result"
    }
   ],
   "source": [
    "# Introdução de referência simples\n",
    "N = 1/(C @ np.linalg.inv(B@K-A) @ B)[0,0]\n",
    "N"
   ]
  },
  {
   "cell_type": "code",
   "execution_count": 4,
   "metadata": {
    "code_folding": [
     0
    ]
   },
   "outputs": [
    {
     "data": {
      "text/latex": [
       "$\\displaystyle \\mathbf{L} = \\left[\\begin{array}{r}5.0\\\\25.0\\\\\\end{array}\\right]$"
      ],
      "text/plain": [
       "<IPython.core.display.Math object>"
      ]
     },
     "metadata": {},
     "output_type": "display_data"
    }
   ],
   "source": [
    "# Projeto do observador\n",
    "wn = 5\n",
    "xi = 0.5\n",
    "po = -xi*wn+1j*wn*np.sqrt(1-xi**2)\n",
    "L = ct.acker(A.T, C.T, [po,np.conj(po)]).T\n",
    "display(Math(r'\\mathbf{L} = ' + esc.mat(L.round(4))))"
   ]
  },
  {
   "cell_type": "code",
   "execution_count": 5,
   "metadata": {
    "code_folding": [
     0
    ],
    "run_control": {
     "marked": false
    }
   },
   "outputs": [
    {
     "data": {
      "text/latex": [
       "$\\displaystyle \\dot{\\mathbf{x}} = \\left[\\begin{array}{rr}-5.0&1.0\\\\-25.9997&-1.414\\\\\\end{array}\\right]\\mathbf{x}+\\left[\\begin{array}{r}5.0\\\\25.0\\\\\\end{array}\\right]\\mathbf{u}$"
      ],
      "text/plain": [
       "<IPython.core.display.Math object>"
      ]
     },
     "metadata": {},
     "output_type": "display_data"
    },
    {
     "data": {
      "text/latex": [
       "$\\displaystyle \\mathbf{y} = \\left[\\begin{array}{rr}-0.9997&-1.414\\\\\\end{array}\\right]\\mathbf{x} + \\left[\\begin{array}{r}0\\\\\\end{array}\\right]\\mathbf{u}$"
      ],
      "text/plain": [
       "<IPython.core.display.Math object>"
      ]
     },
     "metadata": {},
     "output_type": "display_data"
    }
   ],
   "source": [
    "# Compensador no espaço de estados\n",
    "Acomp = A-B@K-L@C\n",
    "Bcomp = L\n",
    "Ccomp = -K\n",
    "Dcomp = np.array([[0]])\n",
    "Comp = ct.ss(Acomp,Bcomp,Ccomp,Dcomp)\n",
    "esc.sist(Acomp.round(4),Bcomp.round(4),Ccomp.round(4),Dcomp)"
   ]
  },
  {
   "cell_type": "code",
   "execution_count": 6,
   "metadata": {
    "code_folding": [
     0
    ]
   },
   "outputs": [
    {
     "data": {
      "text/latex": [
       "$$\\frac{-40.35 s - 24.99}{s^2 + 6.414 s + 33.07}$$"
      ],
      "text/plain": [
       "TransferFunction(array([-40.34849, -24.99245]), array([ 1.      ,  6.414   , 33.069698]))"
      ]
     },
     "execution_count": 6,
     "metadata": {},
     "output_type": "execute_result"
    }
   ],
   "source": [
    "# Função de transf. do compensador\n",
    "ct.tf(Comp)"
   ]
  },
  {
   "attachments": {},
   "cell_type": "markdown",
   "metadata": {},
   "source": [
    "<p align=\"center\">\n",
    "<img src=\"Ex7.30.svg\" width=\"80%\">\n",
    "</p>"
   ]
  },
  {
   "cell_type": "code",
   "execution_count": 7,
   "metadata": {
    "code_folding": [
     0
    ]
   },
   "outputs": [
    {
     "name": "stdout",
     "output_type": "stream",
     "text": [
      "[ 1. 10. 16.  0.]\n"
     ]
    }
   ],
   "source": [
    "# Expande o numerador para achar os coeficientes\n",
    "den = np.poly([0,-2,-8])\n",
    "print(den)"
   ]
  },
  {
   "cell_type": "code",
   "execution_count": 8,
   "metadata": {
    "code_folding": [
     0
    ]
   },
   "outputs": [
    {
     "data": {
      "text/latex": [
       "$\\displaystyle \\dot{\\mathbf{x}} = \\left[\\begin{array}{rrr}-10&1&0\\\\-16&0&1\\\\0&0&0\\\\\\end{array}\\right]\\mathbf{x}+\\left[\\begin{array}{r}0\\\\0\\\\10\\\\\\end{array}\\right]\\mathbf{u}$"
      ],
      "text/plain": [
       "<IPython.core.display.Math object>"
      ]
     },
     "metadata": {},
     "output_type": "display_data"
    },
    {
     "data": {
      "text/latex": [
       "$\\displaystyle \\mathbf{y} = \\left[\\begin{array}{rrr}1&0&0\\\\\\end{array}\\right]\\mathbf{x} + \\left[\\begin{array}{r}0\\\\\\end{array}\\right]\\mathbf{u}$"
      ],
      "text/plain": [
       "<IPython.core.display.Math object>"
      ]
     },
     "metadata": {},
     "output_type": "display_data"
    }
   ],
   "source": [
    "# Assim, as matrizes serão:\n",
    "A = np.array([[-10,1,0],[-16,0,1],[0,0,0]])\n",
    "B = np.array([[0],[0],[10]])\n",
    "C = np.array([[1,0,0]])\n",
    "D = np.array([[0]])\n",
    "\n",
    "sys = ct.ss(A,B,C,D)\n",
    "esc.sist(A,B,C,D)"
   ]
  },
  {
   "cell_type": "code",
   "execution_count": 9,
   "metadata": {
    "code_folding": [
     0
    ]
   },
   "outputs": [
    {
     "data": {
      "text/latex": [
       "$\\displaystyle \\mathbf{K} = \\left[\\begin{array}{rrr}-46.4109&5.7615&-0.65\\\\\\end{array}\\right]$"
      ],
      "text/plain": [
       "<IPython.core.display.Math object>"
      ]
     },
     "metadata": {},
     "output_type": "display_data"
    },
    {
     "data": {
      "text/latex": [
       "$\\displaystyle \\mathbf{L} = \\left[\\begin{array}{r}0.51\\\\61.49\\\\216.2612\\\\\\end{array}\\right]$"
      ],
      "text/plain": [
       "<IPython.core.display.Math object>"
      ]
     },
     "metadata": {},
     "output_type": "display_data"
    }
   ],
   "source": [
    "# Posicionamento de polos\n",
    "pc = [-1.42, -1.04+2.14j,-1.04-2.14j]\n",
    "pe = [-4.25, -3.13+6.41j,-3.13-6.41j]\n",
    "\n",
    "K = ct.acker(A,B,pc)\n",
    "L = ct.acker(A.T,C.T,pe).T\n",
    "\n",
    "display(Math(r'\\mathbf{K} = ' + esc.mat(K.round(4))))\n",
    "display(Math(r'\\mathbf{L} = ' + esc.mat(L.round(4))))"
   ]
  },
  {
   "cell_type": "code",
   "execution_count": 10,
   "metadata": {
    "code_folding": [
     0
    ]
   },
   "outputs": [
    {
     "data": {
      "text/latex": [
       "$\\displaystyle \\dot{\\mathbf{x}} = \\left[\\begin{array}{rrr}-10.51&1.0&0.0\\\\-77.49&0.0&1.0\\\\247.8478&-57.6148&6.5\\\\\\end{array}\\right]\\mathbf{x}+\\left[\\begin{array}{r}0.51\\\\61.49\\\\216.2612\\\\\\end{array}\\right]\\mathbf{u}$"
      ],
      "text/plain": [
       "<IPython.core.display.Math object>"
      ]
     },
     "metadata": {},
     "output_type": "display_data"
    },
    {
     "data": {
      "text/latex": [
       "$\\displaystyle \\mathbf{y} = \\left[\\begin{array}{rrr}46.4109&-5.7615&0.65\\\\\\end{array}\\right]\\mathbf{x} + \\left[\\begin{array}{r}0.0\\\\\\end{array}\\right]\\mathbf{u}$"
      ],
      "text/plain": [
       "<IPython.core.display.Math object>"
      ]
     },
     "metadata": {},
     "output_type": "display_data"
    }
   ],
   "source": [
    "# Montagem do controlador e função de transferência\n",
    "Ac = A-B@K-L@C\n",
    "Bc = L\n",
    "Cc = -K\n",
    "Dc = np.zeros((1,1))\n",
    "\n",
    "comp = ct.ss(Ac,Bc,Cc,0)\n",
    "esc.sist(Ac.round(4),Bc.round(4),Cc.round(4),Dc)"
   ]
  },
  {
   "cell_type": "code",
   "execution_count": 11,
   "metadata": {},
   "outputs": [
    {
     "data": {
      "text/latex": [
       "$$\\frac{-190 s^2 - 482.2 s - 173.9}{s^3 + 4.01 s^2 + 66.79 s - 146}$$"
      ],
      "text/plain": [
       "TransferFunction(array([-190.0340288 , -482.20028555, -173.85034277]), array([   1.      ,    4.01    ,   66.7898  , -146.001298]))"
      ]
     },
     "execution_count": 11,
     "metadata": {},
     "output_type": "execute_result"
    }
   ],
   "source": [
    "# Função de transf.\n",
    "ct.tf(comp)"
   ]
  },
  {
   "cell_type": "code",
   "execution_count": 12,
   "metadata": {
    "code_folding": [
     0
    ],
    "run_control": {
     "marked": false
    }
   },
   "outputs": [
    {
     "name": "stdout",
     "output_type": "stream",
     "text": [
      "_____Eigenvalue______ Damping___ Frequency_\n",
      "    -2.943    +8.317j     0.3336      8.822\n",
      "    -2.943    -8.317j     0.3336      8.822\n",
      "     1.876                     1     -1.876\n",
      "Zeros:\n",
      "[-0.43516541+0.j -2.10227638+0.j]\n"
     ]
    }
   ],
   "source": [
    "# Pólos e zeros do compensador\n",
    "tab=ct.damp(comp)\n",
    "print(\"Zeros:\")\n",
    "print(ct.zeros(comp))"
   ]
  },
  {
   "cell_type": "code",
   "execution_count": 13,
   "metadata": {
    "code_folding": [
     0
    ]
   },
   "outputs": [
    {
     "data": {
      "text/latex": [
       "$\\displaystyle \\dot{\\mathbf{x}} = \\left[\\begin{array}{rrrrrr}-10.0&1.0&0.0&0.0&0.0&0.0\\\\-16.0&0.0&1.0&0.0&0.0&0.0\\\\0.0&0.0&0.0&464.1091&-57.6148&6.5\\\\0.51&0.0&0.0&-10.51&1.0&0.0\\\\61.49&0.0&0.0&-77.49&0.0&1.0\\\\216.2612&0.0&0.0&247.8478&-57.6148&6.5\\\\\\end{array}\\right]\\mathbf{x}+\\left[\\begin{array}{r}0.0\\\\0.0\\\\0.0\\\\0.0\\\\0.0\\\\0.0\\\\\\end{array}\\right]\\mathbf{u}$"
      ],
      "text/plain": [
       "<IPython.core.display.Math object>"
      ]
     },
     "metadata": {},
     "output_type": "display_data"
    },
    {
     "data": {
      "text/latex": [
       "$\\displaystyle \\mathbf{y} = \\left[\\begin{array}{rrrrrr}1.0&0.0&0.0&0.0&0.0&0.0\\\\\\end{array}\\right]\\mathbf{x} + \\left[\\begin{array}{r}0.0\\\\\\end{array}\\right]\\mathbf{u}$"
      ],
      "text/plain": [
       "<IPython.core.display.Math object>"
      ]
     },
     "metadata": {},
     "output_type": "display_data"
    }
   ],
   "source": [
    "# Analisa o sistema em malha fechada\n",
    "Amf = np.block([[A,-B@K],[L@C,A-B@K-L@C]])\n",
    "Bmf = np.zeros((2*B.size,1))\n",
    "Cmf = np.block([C,np.zeros((C.shape))])\n",
    "Dmf = np.zeros((Cmf.shape[0],Bmf.shape[1]))\n",
    "MF = ct.ss(Amf,Bmf,Cmf,Dmf)\n",
    "esc.sist(Amf.round(4),Bmf.round(4),Cmf.round(4),Dmf)"
   ]
  },
  {
   "cell_type": "code",
   "execution_count": 14,
   "metadata": {
    "code_folding": [
     0
    ]
   },
   "outputs": [
    {
     "name": "stdout",
     "output_type": "stream",
     "text": [
      "_____Eigenvalue______ Damping___ Frequency_\n",
      "     -3.13     +6.41j     0.4388      7.133\n",
      "     -3.13     -6.41j     0.4388      7.133\n",
      "     -4.25                     1       4.25\n",
      "     -1.04     +2.14j     0.4371      2.379\n",
      "     -1.04     -2.14j     0.4371      2.379\n",
      "     -1.42                     1       1.42\n"
     ]
    }
   ],
   "source": [
    "# Relatório de polos\n",
    "tab=ct.damp(MF)"
   ]
  },
  {
   "cell_type": "code",
   "execution_count": 15,
   "metadata": {},
   "outputs": [],
   "source": [
    "# Simulação de estado inicial\n",
    "x0 = np.random.random(size=(Amf.shape[0],1))\n",
    "resp = ct.initial_response(MF,5,x0)"
   ]
  },
  {
   "cell_type": "code",
   "execution_count": 16,
   "metadata": {},
   "outputs": [
    {
     "data": {
      "image/png": "[encoded data removed]",
      "text/plain": [
       "<Figure size 1500x480 with 1 Axes>"
      ]
     },
     "metadata": {},
     "output_type": "display_data"
    }
   ],
   "source": [
    "from matplotlib import pyplot as plt\n",
    "plt.figure().set_figwidth(15)\n",
    "plt.plot(resp.t, resp.x.T)\n",
    "plt.grid()\n",
    "plt.xlabel('Tempo (seg)')\n",
    "plt.ylabel('x(t)')\n",
    "plt.legend(['x_'+f'{i+1}' for i in range(7)])\n",
    "plt.show()"
   ]
  }
 ],
 "metadata": {
  "kernelspec": {
   "display_name": "Python 3 (ipykernel)",
   "language": "python",
   "name": "python3"
  },
  "language_info": {
   "codemirror_mode": {
    "name": "ipython",
    "version": 3
   },
   "file_extension": ".py",
   "mimetype": "text/x-python",
   "name": "python",
   "nbconvert_exporter": "python",
   "pygments_lexer": "ipython3",
   "version": "3.11.1"
  },
  "vscode": {
   "interpreter": {
    "hash": "3e3763a57b4ffe0d06e963ec4b7f8ef3a748cbfdb342037439726ee83e94c05b"
   }
  }
 },
 "nbformat": 4,
 "nbformat_minor": 2
}
