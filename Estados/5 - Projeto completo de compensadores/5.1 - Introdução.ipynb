{
 "cells": [
  {
   "attachments": {},
   "cell_type": "markdown",
   "metadata": {},
   "source": [
    "# **Compensador dinâmico**\n",
    "\n",
    "O compensador dinâmico é a junção do regulador e observador no mesmo sistema."
   ]
  },
  {
   "attachments": {},
   "cell_type": "markdown",
   "metadata": {},
   "source": [
    "A Figura abaixo esquematiza todos os subsistemas e rotas de sinal com a estratégia adotada.\n",
    "<p>\n",
    "<img src=\"Fig7.35.svg\" width=\"80%\">\n",
    "</p>\n",
    "\n",
    "No final, nosso controlador projetado com essas abordagens é um único sistema, cujas equações de estado são:"
   ]
  },
  {
   "attachments": {},
   "cell_type": "markdown",
   "metadata": {},
   "source": [
    "$$ \n",
    "\\begin{align*}\n",
    "    \\dot{\\mathbf{\\hat{x}}} &= \\mathbf{(A-BK-LC)}\\mathbf{\\hat{x}}+\\mathbf{L}y\\\\\n",
    "    u &= \\mathbf{-K}\\mathbf{\\hat{x}}\n",
    "\\end{align*}\n",
    "$$"
   ]
  },
  {
   "attachments": {},
   "cell_type": "markdown",
   "metadata": {},
   "source": [
    "onde $\\hat{\\mathbf{x}}$ é a estimativa dos estados do sistema pelo observador, $\\mathbf{K}$ e $\\mathbf{L}$ são respectivamente os ganhos do regulador e do observador. Note que a entrada do controlador é a saída da planta. Da mesma forma, o sinal de saída do controlador é o sinal de controle $u$, que vai para a entrada da planta. \n",
    "\n",
    "Perceba, que estas duas equações permitem realizar o controlador como um sistema entrada-saída normal, com uma função de transferência que basicamente dispensa as equações de estado, para fins de implementação. Esta função é:\n",
    "\n",
    "$$ \n",
    "\\begin{align*}\n",
    "    C(s) &= -\\mathbf{K}(s\\mathbf{I-A+BK+LC})^{-1}\\mathbf{L}\n",
    "\\end{align*}\n",
    "$$\n"
   ]
  },
  {
   "attachments": {},
   "cell_type": "markdown",
   "metadata": {},
   "source": [
    "### Controle com referência"
   ]
  },
  {
   "attachments": {},
   "cell_type": "markdown",
   "metadata": {},
   "source": [
    "$$ \n",
    "\\begin{align*}\n",
    "    \\dot{\\mathbf{\\hat{x}}} &= \\mathbf{(A-BK-LC)}\\mathbf{\\hat{x}}+\\mathbf{L}y+\\mathbf{B}Nr\\\\\n",
    "    u &= \\mathbf{-K}\\mathbf{\\hat{x}}+Nr\n",
    "\\end{align*}\n",
    "$$"
   ]
  },
  {
   "attachments": {},
   "cell_type": "markdown",
   "metadata": {},
   "source": [
    "### Compensador de rastreamento (com integrador)"
   ]
  },
  {
   "attachments": {},
   "cell_type": "markdown",
   "metadata": {},
   "source": [
    "$$ \n",
    "\\begin{align*}\n",
    "    \\dot{\\mathbf{z}}&= (\\mathbf{A}'-\\mathbf{B}'\\mathbf{K}_a-\\mathbf{L}_0\\mathbf{C}')\\mathbf{z}+\\mathbf{L}_1y+\\mathbf{M}r\\\\\n",
    "    u &= \\mathbf{-K}_a\\mathbf{z}\n",
    "\\end{align*}\n",
    "$$\n",
    "\n",
    "Neste projeto, o observador é projetado para estimar apenas os estados $\\mathbf{x}$ do sistema, isto é, o estado $e$ introduzido pelo integrador **não** é estimado. "
   ]
  },
  {
   "attachments": {},
   "cell_type": "markdown",
   "metadata": {},
   "source": [
    "As matrizes aumentadas são:\n",
    "$$\n",
    "\\begin{align}\n",
    "\\mathbf{A}' &= \\left[\\begin{array}{cc}\n",
    "                     \\mathbf{A} & \\mathbf{0}_{n\\times 1}\\\\\n",
    "                     \\mathbf{0}_{1\\times n} & 0\n",
    "                \\end{array}\\right]\\\\\n",
    "\n",
    "\\mathbf{B}' &= \\left[\\begin{array}{cc}\n",
    "\\mathbf{B} \\\\ {0}\n",
    "\\end{array}\\right]\\\\\n",
    "\n",
    "\\mathbf{C}' &= \\left[\\begin{array}{cc}\n",
    "\\mathbf{C} & {0}\n",
    "\\end{array}\\right]\\\\\n",
    "\n",
    "\\mathbf{L}_0 &= \\left[\\begin{array}{cc}\n",
    "\\mathbf{L} \\\\ {0}\n",
    "\\end{array}\\right]\\\\\n",
    "\n",
    "\\mathbf{L}_1 &= \\left[\\begin{array}{rr}\n",
    "\\mathbf{L} \\\\ {-1}\n",
    "\\end{array}\\right]\\\\\n",
    "\n",
    "\\mathbf{M} &= \\left[\\begin{array}{cc}\n",
    "\\mathbf{0}_{n\\times 1} \\\\ 1\n",
    "\\end{array}\\right]\\\\\n",
    "\n",
    "\\end{align}\n",
    "$$\n",
    "\n"
   ]
  },
  {
   "attachments": {},
   "cell_type": "markdown",
   "metadata": {},
   "source": [
    "## Simulação em malha fechada\n",
    "\n",
    "O sistema completo (planta+controlador) pode ser simulado usando um único conjunto de equações de estados:"
   ]
  },
  {
   "attachments": {},
   "cell_type": "markdown",
   "metadata": {},
   "source": [
    "**Com referência simples:**\n",
    "$$\n",
    "\\begin{align*}\n",
    "\\dot{\\mathbf{x}} &= \\mathbf{A}\\mathbf{x}-\\mathbf{BK}\\mathbf{\\hat{x}}+\\mathbf{B}N\\, r\\\\\n",
    "\\dot{\\mathbf{\\hat{x}}} &= \\mathbf{(A-BK-LC)}\\mathbf{\\hat{x}}+\\mathbf{LCx}+\\mathbf{B}N\\, r\\\\\n",
    "y&= \\mathbf{Cx}\n",
    "\\end{align*}\n",
    "$$"
   ]
  },
  {
   "attachments": {},
   "cell_type": "markdown",
   "metadata": {},
   "source": [
    "Matrizes de malha fechada:\n",
    "$$\n",
    "\\begin{align}\n",
    "\\mathbf{A}_{\\text{mf}} &= \\left[\\begin{array}{cc}\n",
    "    \\mathbf{A} & -\\mathbf{BK}\\\\\n",
    "    \\mathbf{LC} & \\mathbf{A-BK-LC}\n",
    "\\end{array}\\right]\\\\\n",
    "\\mathbf{B}_{\\text{mf}} &= \\left[\\begin{array}{cc}\n",
    "    \\mathbf{B}N \\\\ \\mathbf{B}N\n",
    "\\end{array}\\right]\\\\\n",
    "\\mathbf{C}_{\\text{mf}} &= \\left[\\begin{array}{cc}\n",
    "    \\mathbf{C} & \\mathbf{0}\n",
    "\\end{array}\\right]\\\\\n",
    "\\mathbf{D}_{\\text{mf}} &= 0\n",
    "\\end{align}\n",
    "$$"
   ]
  },
  {
   "attachments": {},
   "cell_type": "markdown",
   "metadata": {},
   "source": [
    "**Com controle integral:**\n",
    "$$\n",
    "\\begin{align*}\n",
    "\\dot{\\mathbf{x}} &= \\mathbf{A}\\mathbf{x}-\\mathbf{B}\\mathbf{K}_a\\mathbf{z}\\\\\n",
    "\\dot{\\mathbf{z}} &= (\\mathbf{A'}-\\mathbf{B'}\\mathbf{K}_a-\\mathbf{L}_0\\mathbf{C}')\\mathbf{z}+\\mathbf{L}_1\\mathbf{C}\\mathbf{x}+\\mathbf{M}\\, r\\\\\n",
    "y&= \\mathbf{Cx}\n",
    "\\end{align*}\n",
    "$$"
   ]
  },
  {
   "attachments": {},
   "cell_type": "markdown",
   "metadata": {},
   "source": [
    "Matrizes de malha fechada:\n",
    "$$\n",
    "\\begin{align}\n",
    "\\mathbf{A}_{\\text{mf}} &= \\left[\\begin{array}{cc}\n",
    "    \\mathbf{A} & -\\mathbf{B}\\mathbf{K}_a\\\\\n",
    "    \\mathbf{L}_1\\mathbf{C} & \\mathbf{A}'-\\mathbf{B}'\\mathbf{K}_a-\\mathbf{L}_0\\mathbf{C}'\n",
    "\\end{array}\\right]\\\\\n",
    "\\mathbf{B}_{\\text{mf}} &= \\left[\\begin{array}{cc}\n",
    "    \\mathbf{0}_{n\\times 1} \\\\ \\mathbf{M}\n",
    "\\end{array}\\right] = \\left[\\begin{array}{cc}\n",
    "    \\mathbf{0}_{2n\\times 1} \\\\ 1\n",
    "\\end{array}\\right]\\\\\n",
    "\\mathbf{C}_{\\text{mf}} &= \\left[\\begin{array}{cc}\n",
    "    \\mathbf{C} & \\mathbf{0}_{1\\times (2n+1)}\n",
    "\\end{array}\\right]\\\\\n",
    "\\mathbf{D}_{\\text{mf}} &= 0\n",
    "\\end{align}\n",
    "$$"
   ]
  },
  {
   "attachments": {},
   "cell_type": "markdown",
   "metadata": {},
   "source": [
    "Em ambos os casos, o compensador usa **duas entradas**: a referência e a saída da planta. Pode-se enxergá-lo através de duas funções de transferência: uma de $Y$ para $U$ e outra de $R$ para $U$. Assim, a saída do controlador poderia ser descrita como:\n",
    "$$\n",
    "\\begin{align}\n",
    "    U(s) = C_1(s)Y(s)+C_2(s)R(s)\n",
    "\\end{align}\n",
    "$$\n",
    "\n",
    "As funções de transferência $C_1(s)$ e $C_2(s)$ podem ser calculadas pelas matrizes usando a expressão que já estudamos. "
   ]
  },
  {
   "attachments": {},
   "cell_type": "markdown",
   "metadata": {},
   "source": [
    "Do ponto de vista de fluxo de sinal, o sistema em malha fechada funciona conforme o diagrama de blocos a seguir\n",
    "\n",
    "<p align=\"center\">\n",
    "<img src=\"controleIntegral.svg\" width=\"60%\">\n",
    "</p>\n",
    "\n",
    "Esse diagrama pode ser modificado para utilizar a estrutura convencional de controle com realimentação unitária, mas nesse caso, o bloco que alimenta a referência sofre modificação (*desafio: verifique que diagrama é esse*)"
   ]
  },
  {
   "attachments": {},
   "cell_type": "markdown",
   "metadata": {},
   "source": [
    "É possível demonstrar que o polinômio de malha fechada quando usamos um compensador é:\n",
    "$$\n",
    "\\begin{align*}\n",
    "    \\alpha_{\\text{mf}}(s) = \\alpha_{\\text{reg}}(s)\\cdot \\alpha_{\\text{obs}}(s)\n",
    "\\end{align*}\n",
    "$$\n",
    "onde \"mf\", \"reg\" e \"obs\" indicam respectivamente \"malha fechada\", \"regulador\" e \"observador\".\n",
    "\n",
    "Observe que, desta forma, o conjunto de pólos de MF é a união dos pólos do OBS com os pólos do REG, o que permite que os projetos do observador e do regulador sejam feitos de forma independente. Isso é chamado de principío da separação em teoria de controle. "
   ]
  },
  {
   "attachments": {},
   "cell_type": "markdown",
   "metadata": {},
   "source": [
    "## Exemplos"
   ]
  },
  {
   "attachments": {},
   "cell_type": "markdown",
   "metadata": {},
   "source": [
    "### Exemplo 7.28\n",
    "<p align=\"center\">\n",
    "<img src=\"Ex7.28.svg\" width=\"80%\">\n",
    "</p>"
   ]
  },
  {
   "cell_type": "code",
   "execution_count": 1,
   "metadata": {
    "code_folding": [
     0
    ],
    "run_control": {
     "marked": false
    }
   },
   "outputs": [],
   "source": [
    "# Imports\n",
    "import numpy as np\n",
    "import control as ct\n",
    "from escrever import *\n",
    "from IPython.display import display, Math\n",
    "esc = escrever()"
   ]
  },
  {
   "cell_type": "code",
   "execution_count": 2,
   "metadata": {
    "code_folding": [
     0
    ]
   },
   "outputs": [
    {
     "data": {
      "text/latex": [
       "$\\displaystyle \\dot{\\mathbf{x}} = \\left[\\begin{array}{rr}0&1\\\\0&0\\\\\\end{array}\\right]\\mathbf{x}+\\left[\\begin{array}{r}0\\\\1\\\\\\end{array}\\right]\\mathbf{u}$"
      ],
      "text/plain": [
       "<IPython.core.display.Math object>"
      ]
     },
     "metadata": {},
     "output_type": "display_data"
    },
    {
     "data": {
      "text/latex": [
       "$\\displaystyle \\mathbf{y} = \\left[\\begin{array}{rr}1&0\\\\\\end{array}\\right]\\mathbf{x} + \\left[\\begin{array}{r}0\\\\\\end{array}\\right]\\mathbf{u}$"
      ],
      "text/plain": [
       "<IPython.core.display.Math object>"
      ]
     },
     "metadata": {},
     "output_type": "display_data"
    }
   ],
   "source": [
    "# Declara o sistema\n",
    "A = np.array([[0,1],[0,0]])\n",
    "B = np.array([[0],[1]])\n",
    "C = np.array([[1,0]])\n",
    "D = np.array([[0]])\n",
    "esc.sist(A,B,C,D)"
   ]
  },
  {
   "cell_type": "code",
   "execution_count": 3,
   "metadata": {
    "code_folding": [
     0
    ]
   },
   "outputs": [
    {
     "data": {
      "text/latex": [
       "$\\displaystyle \\mathbf{K} = \\left[\\begin{array}{rr}0.9997&1.414\\\\\\end{array}\\right]$"
      ],
      "text/plain": [
       "<IPython.core.display.Math object>"
      ]
     },
     "metadata": {},
     "output_type": "display_data"
    }
   ],
   "source": [
    "# Aloca os polos do regulador\n",
    "pr = -0.707+0.707j\n",
    "K = ct.acker(A,B,[pr,np.conj(pr)])\n",
    "display(Math(r'\\mathbf{K} = ' + esc.mat(K.round(decimals=4))))"
   ]
  },
  {
   "attachments": {},
   "cell_type": "markdown",
   "metadata": {},
   "source": [
    "No livro os ganhos são $1$ e $\\sqrt{2}$ exatamente. Você pode conferir com o Python que os resultados decimais estão bem próximos."
   ]
  },
  {
   "cell_type": "code",
   "execution_count": 7,
   "metadata": {},
   "outputs": [
    {
     "data": {
      "text/plain": [
       "0.9996979999999999"
      ]
     },
     "execution_count": 7,
     "metadata": {},
     "output_type": "execute_result"
    }
   ],
   "source": [
    "# Introdução de referência simples\n",
    "N = 1/(C @ np.linalg.inv(B@K-A) @ B)[0,0]\n",
    "N"
   ]
  },
  {
   "cell_type": "code",
   "execution_count": 9,
   "metadata": {
    "code_folding": [
     0
    ]
   },
   "outputs": [
    {
     "data": {
      "text/latex": [
       "$\\displaystyle \\mathbf{L} = \\left[\\begin{array}{r}5.0\\\\25.0\\\\\\end{array}\\right]$"
      ],
      "text/plain": [
       "<IPython.core.display.Math object>"
      ]
     },
     "metadata": {},
     "output_type": "display_data"
    }
   ],
   "source": [
    "# Projeto do observador\n",
    "wn = 5\n",
    "xi = 0.5\n",
    "po = -xi*wn+1j*wn*np.sqrt(1-xi**2)\n",
    "L = ct.acker(A.T, C.T, [po,np.conj(po)]).T\n",
    "display(Math(r'\\mathbf{L} = ' + esc.mat(L.round(4))))"
   ]
  },
  {
   "cell_type": "code",
   "execution_count": 11,
   "metadata": {
    "code_folding": [
     0
    ],
    "run_control": {
     "marked": false
    }
   },
   "outputs": [
    {
     "data": {
      "text/latex": [
       "$\\displaystyle \\dot{\\mathbf{x}} = \\left[\\begin{array}{rr}-5.0&1.0\\\\-25.9997&-1.414\\\\\\end{array}\\right]\\mathbf{x}+\\left[\\begin{array}{rr}5.0&0.0\\\\25.0&0.9997\\\\\\end{array}\\right]\\mathbf{u}$"
      ],
      "text/plain": [
       "<IPython.core.display.Math object>"
      ]
     },
     "metadata": {},
     "output_type": "display_data"
    },
    {
     "data": {
      "text/latex": [
       "$\\displaystyle \\mathbf{y} = \\left[\\begin{array}{rr}-0.9997&-1.414\\\\\\end{array}\\right]\\mathbf{x} + \\left[\\begin{array}{rr}0&0\\\\\\end{array}\\right]\\mathbf{u}$"
      ],
      "text/plain": [
       "<IPython.core.display.Math object>"
      ]
     },
     "metadata": {},
     "output_type": "display_data"
    }
   ],
   "source": [
    "# Compensador no espaço de estados\n",
    "Acomp = A-B@K-L@C\n",
    "Bcomp = np.block([L,B*N])\n",
    "Ccomp = -K\n",
    "Dcomp = np.array([[0,0]])\n",
    "esc.sist(Acomp.round(4),Bcomp.round(4),Ccomp.round(4),Dcomp)"
   ]
  },
  {
   "cell_type": "code",
   "execution_count": 24,
   "metadata": {
    "code_folding": [
     0
    ]
   },
   "outputs": [
    {
     "data": {
      "text/latex": [
       "$$\\frac{-40.35 s - 24.99}{s^2 + 6.414 s + 33.07}$$"
      ],
      "text/plain": [
       "TransferFunction(array([-40.34849, -24.99245]), array([ 1.      ,  6.414   , 33.069698]))"
      ]
     },
     "metadata": {},
     "output_type": "display_data"
    },
    {
     "data": {
      "text/latex": [
       "$$\\frac{-1.414 s - 8.067}{s^2 + 6.414 s + 33.07}$$"
      ],
      "text/plain": [
       "TransferFunction(array([-1.41357297, -8.06726095]), array([ 1.      ,  6.414   , 33.069698]))"
      ]
     },
     "metadata": {},
     "output_type": "display_data"
    }
   ],
   "source": [
    "# Funções de transf. do compensador\n",
    "comp_uy = ct.ss(Acomp,Bcomp[:,0],Ccomp,Dcomp[:,0])\n",
    "C1 = (ct.tf(comp_uy))\n",
    "comp_ur = ct.ss(Acomp,Bcomp[:,1],Ccomp,Dcomp[:,1])\n",
    "C2 = (ct.tf(comp_ur))\n",
    "display(C1)\n",
    "display(C2)"
   ]
  },
  {
   "cell_type": "code",
   "execution_count": 26,
   "metadata": {},
   "outputs": [],
   "source": [
    "# Sistema em malha fechada\n",
    "Amf = np.block([[A, -B@K],[L@C, A-B@K-L@C]])\n",
    "Bmf = np.block([[B*N],[B*N]])\n",
    "Cmf = np.block([C, np.zeros(C.shape)])\n",
    "Dmf = 0\n",
    "mf = ct.ss(Amf,Bmf,Cmf,Dmf)"
   ]
  },
  {
   "cell_type": "code",
   "execution_count": 27,
   "metadata": {},
   "outputs": [
    {
     "name": "stdout",
     "output_type": "stream",
     "text": [
      "_____Eigenvalue______ Damping___ Frequency_\n",
      "      -2.5     +4.33j        0.5          5\n",
      "      -2.5     -4.33j        0.5          5\n",
      "    -0.707    +0.707j     0.7071     0.9998\n",
      "    -0.707    -0.707j     0.7071     0.9998\n"
     ]
    }
   ],
   "source": [
    "# Pólos de MF\n",
    "tab = ct.damp(mf)"
   ]
  },
  {
   "cell_type": "code",
   "execution_count": 29,
   "metadata": {},
   "outputs": [
    {
     "data": {
      "text/plain": [
       "array([-2.5+4.33012702j, -2.5-4.33012702j])"
      ]
     },
     "execution_count": 29,
     "metadata": {},
     "output_type": "execute_result"
    }
   ],
   "source": [
    "# Zeros de transmissão\n",
    "ct.zeros(mf)"
   ]
  },
  {
   "attachments": {},
   "cell_type": "markdown",
   "metadata": {},
   "source": [
    "Note que os zeros são cancelados pelo próprio compensador"
   ]
  },
  {
   "cell_type": "code",
   "execution_count": 30,
   "metadata": {},
   "outputs": [],
   "source": [
    "# Simulação em MF, resposta ao degrau unitário\n",
    "resp = ct.step_response(mf,6)"
   ]
  },
  {
   "cell_type": "code",
   "execution_count": 46,
   "metadata": {},
   "outputs": [],
   "source": [
    "# Calcula o sinal de controle simulado\n",
    "u = (-K@resp.states[2:,:])+N*np.ones(resp.t.shape)"
   ]
  },
  {
   "cell_type": "code",
   "execution_count": 47,
   "metadata": {},
   "outputs": [
    {
     "data": {
      "image/png": "[encoded data removed]",
      "text/plain": [
       "<Figure size 1400x600 with 2 Axes>"
      ]
     },
     "metadata": {},
     "output_type": "display_data"
    }
   ],
   "source": [
    "# Plotagem da resposta\n",
    "import matplotlib.pyplot as plt\n",
    "# Plotagem da saída\n",
    "plt.figure(figsize=(14,6))\n",
    "plt.subplot(211)\n",
    "plt.plot(resp.t,resp.outputs)\n",
    "plt.xlabel('Tempo (seg)')\n",
    "plt.ylabel('Saída da planta')\n",
    "plt.title('Resposta ao degrau unitário')\n",
    "plt.grid()\n",
    "# Calcula e plota o sinal de controle\n",
    "plt.subplot(212)\n",
    "plt.plot(resp.t,u.T)\n",
    "plt.xlabel('Tempo (seg)')\n",
    "plt.ylabel('Sinal de controle')\n",
    "plt.grid()"
   ]
  },
  {
   "attachments": {},
   "cell_type": "markdown",
   "metadata": {},
   "source": [
    "### Exemplo 7.30\n",
    "\n",
    "<p align=\"center\">\n",
    "<img src=\"Ex7.30.svg\" width=\"80%\">\n",
    "</p>"
   ]
  },
  {
   "cell_type": "code",
   "execution_count": 7,
   "metadata": {
    "code_folding": [
     0
    ]
   },
   "outputs": [
    {
     "name": "stdout",
     "output_type": "stream",
     "text": [
      "[ 1. 10. 16.  0.]\n"
     ]
    }
   ],
   "source": [
    "# Expande o numerador para achar os coeficientes\n",
    "den = np.poly([0,-2,-8])\n",
    "print(den)"
   ]
  },
  {
   "cell_type": "code",
   "execution_count": 66,
   "metadata": {
    "code_folding": [
     0
    ]
   },
   "outputs": [
    {
     "data": {
      "text/latex": [
       "$\\displaystyle \\dot{\\mathbf{x}} = \\left[\\begin{array}{rrr}-10&1&0\\\\-16&0&1\\\\0&0&0\\\\\\end{array}\\right]\\mathbf{x}+\\left[\\begin{array}{r}0\\\\0\\\\10\\\\\\end{array}\\right]\\mathbf{u}$"
      ],
      "text/plain": [
       "<IPython.core.display.Math object>"
      ]
     },
     "metadata": {},
     "output_type": "display_data"
    },
    {
     "data": {
      "text/latex": [
       "$\\displaystyle \\mathbf{y} = \\left[\\begin{array}{rrr}1&0&0\\\\\\end{array}\\right]\\mathbf{x} + \\left[\\begin{array}{r}0\\\\\\end{array}\\right]\\mathbf{u}$"
      ],
      "text/plain": [
       "<IPython.core.display.Math object>"
      ]
     },
     "metadata": {},
     "output_type": "display_data"
    },
    {
     "data": {
      "text/plain": [
       "array([], dtype=complex128)"
      ]
     },
     "execution_count": 66,
     "metadata": {},
     "output_type": "execute_result"
    }
   ],
   "source": [
    "# Assim, as matrizes serão:\n",
    "A = np.array([[-10,1,0],[-16,0,1],[0,0,0]])\n",
    "B = np.array([[0],[0],[10]])\n",
    "C = np.array([[1,0,0]])\n",
    "D = np.array([[0]])\n",
    "\n",
    "sys = ct.ss(A,B,C,D)\n",
    "esc.sist(A,B,C,D)"
   ]
  },
  {
   "cell_type": "code",
   "execution_count": 65,
   "metadata": {},
   "outputs": [
    {
     "data": {
      "text/plain": [
       "array([[-10.,   1.,   0.,   0.],\n",
       "       [-16.,   0.,   1.,   0.],\n",
       "       [  0.,   0.,   0.,   0.],\n",
       "       [ -1.,   0.,   0.,   0.]])"
      ]
     },
     "execution_count": 65,
     "metadata": {},
     "output_type": "execute_result"
    }
   ],
   "source": [
    "# Controle integral\n",
    "Aa = np.block([[A,np.zeros((3,1))],[-C, 0]])\n",
    "Ba = np.block([[B],[0]])\n",
    "Aa"
   ]
  },
  {
   "cell_type": "code",
   "execution_count": 67,
   "metadata": {
    "code_folding": [
     0
    ]
   },
   "outputs": [
    {
     "data": {
      "text/latex": [
       "$\\displaystyle \\mathbf{K}_a = \\left[\\begin{array}{rrrr}-38.2296&4.8385&-0.508&-1.1415\\\\\\end{array}\\right]$"
      ],
      "text/plain": [
       "<IPython.core.display.Math object>"
      ]
     },
     "metadata": {},
     "output_type": "display_data"
    },
    {
     "data": {
      "text/latex": [
       "$\\displaystyle \\mathbf{L} = \\left[\\begin{array}{r}0.51\\\\61.49\\\\216.2612\\\\\\end{array}\\right]$"
      ],
      "text/plain": [
       "<IPython.core.display.Math object>"
      ]
     },
     "metadata": {},
     "output_type": "display_data"
    }
   ],
   "source": [
    "# Posicionamento de polos\n",
    "pc = [-1.42,-1.42, -1.04+2.14j,-1.04-2.14j]\n",
    "pe = [-4.25, -3.13+6.41j,-3.13-6.41j]\n",
    "\n",
    "Ka = ct.acker(Aa,Ba,pc)\n",
    "L = ct.acker(A.T,C.T,pe).T\n",
    "\n",
    "display(Math(r'\\mathbf{K}_a = ' + esc.mat(Ka.round(4))))\n",
    "display(Math(r'\\mathbf{L} = ' + esc.mat(L.round(4))))"
   ]
  },
  {
   "cell_type": "code",
   "execution_count": 68,
   "metadata": {
    "code_folding": [
     0
    ]
   },
   "outputs": [
    {
     "data": {
      "text/latex": [
       "$\\displaystyle \\dot{\\mathbf{x}} = \\left[\\begin{array}{rrrr}-10.51&1.0&0.0&0.0\\\\-77.49&0.0&1.0&0.0\\\\166.0348&-48.3848&5.08&11.4152\\\\0.0&0.0&0.0&0.0\\\\\\end{array}\\right]\\mathbf{x}+\\left[\\begin{array}{rr}0.51&0.0\\\\61.49&0.0\\\\216.2612&0.0\\\\-1.0&1.0\\\\\\end{array}\\right]\\mathbf{u}$"
      ],
      "text/plain": [
       "<IPython.core.display.Math object>"
      ]
     },
     "metadata": {},
     "output_type": "display_data"
    },
    {
     "data": {
      "text/latex": [
       "$\\displaystyle \\mathbf{y} = \\left[\\begin{array}{rrrr}38.2296&-4.8385&0.508&1.1415\\\\\\end{array}\\right]\\mathbf{x} + \\left[\\begin{array}{rr}0.0&0.0\\\\\\end{array}\\right]\\mathbf{u}$"
      ],
      "text/plain": [
       "<IPython.core.display.Math object>"
      ]
     },
     "metadata": {},
     "output_type": "display_data"
    }
   ],
   "source": [
    "# Montagem do controlador e função de transferência\n",
    "Al = np.block([[A,np.zeros((3,1))],[np.zeros((1,4))]])\n",
    "Bl = Ba\n",
    "Cl = np.block([C,0])\n",
    "L0 = np.block([[L],[0]])\n",
    "L1 = np.block([[L],[-1]])\n",
    "M = np.block([[np.zeros((3,1))],[1]])\n",
    "Ac = Al-Bl@Ka-L0@Cl\n",
    "Bc = np.block([L1,M])\n",
    "Cc = -Ka\n",
    "Dc = np.zeros((1,2))\n",
    "esc.sist(Ac.round(4),Bc.round(4),Cc.round(4),Dc)"
   ]
  },
  {
   "cell_type": "code",
   "execution_count": 69,
   "metadata": {},
   "outputs": [
    {
     "data": {
      "text/latex": [
       "$$\\frac{-169.3 s^3 - 544.7 s^2 - 526.9 s - 246.9}{s^4 + 5.43 s^3 + 72.48 s^2 - 51.16 s}$$"
      ],
      "text/plain": [
       "TransferFunction(array([-169.30184449, -544.72676329, -526.85979919, -246.86748673]), array([  1.      ,   5.43    ,  72.484   , -51.159782,   0.      ]))"
      ]
     },
     "metadata": {},
     "output_type": "display_data"
    },
    {
     "data": {
      "text/latex": [
       "$$\\frac{1.142 s^3 + 12 s^2 + 88.46 s + 246.9}{s^4 + 5.43 s^3 + 72.48 s^2 - 51.16 s}$$"
      ],
      "text/plain": [
       "TransferFunction(array([  1.14152437,  11.99742111,  88.45672328, 246.86748673]), array([  1.      ,   5.43    ,  72.484   , -51.159782,   0.      ]))"
      ]
     },
     "metadata": {},
     "output_type": "display_data"
    }
   ],
   "source": [
    "# Funções de transf.\n",
    "C1 = ct.ss(Ac,Bc[:,0],Cc,Dc[:,0])\n",
    "C1 = ct.tf(C1)\n",
    "C2 = ct.ss(Ac,Bc[:,1],Cc,Dc[:,1])\n",
    "C2 = ct.tf(C2)\n",
    "display(C1)\n",
    "display(C2)"
   ]
  },
  {
   "cell_type": "code",
   "execution_count": 70,
   "metadata": {
    "code_folding": [
     0
    ]
   },
   "outputs": [
    {
     "data": {
      "text/latex": [
       "$\\displaystyle \\dot{\\mathbf{x}} = \\left[\\begin{array}{rrrrrrr}-10.0&1.0&0.0&0.0&0.0&0.0&0.0\\\\-16.0&0.0&1.0&0.0&0.0&0.0&0.0\\\\0.0&0.0&0.0&382.2961&-48.3848&5.08&11.4152\\\\0.51&0.0&0.0&-10.51&1.0&0.0&0.0\\\\61.49&0.0&0.0&-77.49&0.0&1.0&0.0\\\\216.2612&0.0&0.0&166.0348&-48.3848&5.08&11.4152\\\\-1.0&0.0&0.0&0.0&0.0&0.0&0.0\\\\\\end{array}\\right]\\mathbf{x}+\\left[\\begin{array}{r}0.0\\\\0.0\\\\0.0\\\\0.0\\\\0.0\\\\0.0\\\\1.0\\\\\\end{array}\\right]\\mathbf{u}$"
      ],
      "text/plain": [
       "<IPython.core.display.Math object>"
      ]
     },
     "metadata": {},
     "output_type": "display_data"
    },
    {
     "data": {
      "text/latex": [
       "$\\displaystyle \\mathbf{y} = \\left[\\begin{array}{rrrrrrr}1.0&0.0&0.0&0.0&0.0&0.0&0.0\\\\\\end{array}\\right]\\mathbf{x} + \\left[\\begin{array}{r}0.0\\\\\\end{array}\\right]\\mathbf{u}$"
      ],
      "text/plain": [
       "<IPython.core.display.Math object>"
      ]
     },
     "metadata": {},
     "output_type": "display_data"
    }
   ],
   "source": [
    "# Analisa o sistema em malha fechada\n",
    "Amf = np.block([[A,-B@Ka],[L1@C,Al-Bl@Ka-L0@Cl]])\n",
    "Bmf = np.block([[np.zeros((A.shape[0],1))],[M]])\n",
    "Cmf = np.block([C,np.zeros((Cl.shape))])\n",
    "Dmf = np.zeros((Cmf.shape[0],Bmf.shape[1]))\n",
    "MF = ct.ss(Amf,Bmf,Cmf,Dmf)\n",
    "esc.sist(Amf.round(4),Bmf.round(4),Cmf.round(4),Dmf)"
   ]
  },
  {
   "cell_type": "code",
   "execution_count": 73,
   "metadata": {
    "code_folding": [
     0
    ]
   },
   "outputs": [
    {
     "name": "stdout",
     "output_type": "stream",
     "text": [
      "_____Eigenvalue______ Damping___ Frequency_\n",
      "     -3.13     +6.41j     0.4388      7.133\n",
      "     -3.13     -6.41j     0.4388      7.133\n",
      "     -4.25                     1       4.25\n",
      "     -1.04     +2.14j     0.4371      2.379\n",
      "     -1.04     -2.14j     0.4371      2.379\n",
      "     -1.42                     1       1.42\n",
      "     -1.42                     1       1.42\n",
      "Projeto regulador: [-1.42, -1.42, (-1.04+2.14j), (-1.04-2.14j)]\n",
      "Projeto observador [-4.25, (-3.13+6.41j), (-3.13-6.41j)]\n",
      "Zeros: [-4.25+0.j   -3.13+6.41j -3.13-6.41j]\n"
     ]
    }
   ],
   "source": [
    "# Relatório de polos\n",
    "tab=ct.damp(MF)\n",
    "print('Projeto regulador:', pc)\n",
    "print('Projeto observador' , pe)\n",
    "print('Zeros:', MF.zeros())"
   ]
  },
  {
   "cell_type": "code",
   "execution_count": 74,
   "metadata": {},
   "outputs": [],
   "source": [
    "# Simulação de estado inicial\n",
    "resp = ct.step_response(MF,5)"
   ]
  },
  {
   "cell_type": "code",
   "execution_count": 75,
   "metadata": {},
   "outputs": [],
   "source": [
    "# Cálculo do sinal de controle\n",
    "u = -Ka@resp.states[3:,:]"
   ]
  },
  {
   "cell_type": "code",
   "execution_count": 77,
   "metadata": {},
   "outputs": [
    {
     "data": {
      "image/png": "[encoded data removed]",
      "text/plain": [
       "<Figure size 1400x600 with 2 Axes>"
      ]
     },
     "metadata": {},
     "output_type": "display_data"
    }
   ],
   "source": [
    "from matplotlib import pyplot as plt\n",
    "# Plotagem da resposta\n",
    "plt.figure(figsize=(14,6))\n",
    "plt.subplot(211)\n",
    "plt.plot(resp.t,resp.outputs)\n",
    "plt.xlabel('Tempo (seg)')\n",
    "plt.ylabel('Saída da planta')\n",
    "plt.title('Resposta ao degrau unitário')\n",
    "plt.grid()\n",
    "# Calcula e plota o sinal de controle\n",
    "plt.subplot(212)\n",
    "plt.plot(resp.t,u.T)\n",
    "plt.xlabel('Tempo (seg)')\n",
    "plt.ylabel('Sinal de controle')\n",
    "plt.grid()"
   ]
  }
 ],
 "metadata": {
  "kernelspec": {
   "display_name": "Python 3 (ipykernel)",
   "language": "python",
   "name": "python3"
  },
  "language_info": {
   "codemirror_mode": {
    "name": "ipython",
    "version": 3
   },
   "file_extension": ".py",
   "mimetype": "text/x-python",
   "name": "python",
   "nbconvert_exporter": "python",
   "pygments_lexer": "ipython3",
   "version": "3.11.1"
  },
  "vscode": {
   "interpreter": {
    "hash": "3e3763a57b4ffe0d06e963ec4b7f8ef3a748cbfdb342037439726ee83e94c05b"
   }
  }
 },
 "nbformat": 4,
 "nbformat_minor": 2
}
