{
 "cells": [
  {
   "cell_type": "code",
   "execution_count": 72,
   "metadata": {},
   "outputs": [],
   "source": [
    "#\n",
    "import numpy as np\n",
    "import control as ct\n",
    "from IPython.display import display, Math\n",
    "from escrever import *\n",
    "from numpy.random import choice\n",
    "esc = escrever()\n",
    "dig0 = list(range(10))\n",
    "dig = dig0\n",
    "dig.remove(0)\n",
    "def gsis():\n",
    "    a = choice(dig0)\n",
    "    b = choice(dig)\n",
    "    c = choice(dig)\n",
    "    A = np.array([[0,1],[-2*c, -c**2]])\n",
    "    B = np.array([[0,1]]).T\n",
    "    C = np.array([[a,b]])\n",
    "    D = np.zeros((1,1))\n",
    "    return A,B,C,D\n"
   ]
  },
  {
   "attachments": {},
   "cell_type": "markdown",
   "metadata": {},
   "source": [
    "Considere o modelo linear abaixo. Esse sistema é comumente encontrado na modelagem de sistemas mecânicos e eletromecânicos instáveis, tais como sistemas de levitação magnética. "
   ]
  },
  {
   "cell_type": "code",
   "execution_count": 73,
   "metadata": {},
   "outputs": [
    {
     "data": {
      "text/latex": [
       "$\\displaystyle \\dot{\\mathbf{x}} = \\left[\\begin{array}{rr}0&1\\\\-14&-49\\\\\\end{array}\\right]\\mathbf{x}+\\left[\\begin{array}{r}0\\\\1\\\\\\end{array}\\right]\\mathbf{u}$"
      ],
      "text/plain": [
       "<IPython.core.display.Math object>"
      ]
     },
     "metadata": {},
     "output_type": "display_data"
    },
    {
     "data": {
      "text/latex": [
       "$\\displaystyle \\mathbf{y} = \\left[\\begin{array}{rr}1&9\\\\\\end{array}\\right]\\mathbf{x} + \\left[\\begin{array}{r}0.0\\\\\\end{array}\\right]\\mathbf{u}$"
      ],
      "text/plain": [
       "<IPython.core.display.Math object>"
      ]
     },
     "metadata": {},
     "output_type": "display_data"
    }
   ],
   "source": [
    "# \n",
    "a = choice(dig0)\n",
    "b = choice(dig)\n",
    "c = choice(dig)\n",
    "A = np.array([[0,1],[-2*c, -c**2]])\n",
    "B = np.array([[0,1]]).T\n",
    "C = np.array([[a,b]])\n",
    "D = np.zeros((1,1))\n",
    "d = choice(dig)\n",
    "K = np.array([[-2*c + d**2, -c**2 + 2*d]])\n",
    "esc.sist(A,B,C,D)"
   ]
  },
  {
   "attachments": {},
   "cell_type": "markdown",
   "metadata": {},
   "source": [
    "Faça a análise e o projeto de um compensador para esse sistema. Utilize o seguinte roteiro."
   ]
  },
  {
   "attachments": {},
   "cell_type": "markdown",
   "metadata": {},
   "source": [
    "**1. Escreva o modelo em espaço de estados usando forma canônica de controlador**\n"
   ]
  },
  {
   "cell_type": "markdown",
   "metadata": {},
   "source": []
  },
  {
   "attachments": {},
   "cell_type": "markdown",
   "metadata": {},
   "source": [
    "**2. Faça uma breve análise do comportamento de malha aberta**"
   ]
  },
  {
   "cell_type": "markdown",
   "metadata": {},
   "source": []
  },
  {
   "attachments": {},
   "cell_type": "markdown",
   "metadata": {},
   "source": [
    "**3. Projete um regulador de estados com controle integral para esse sistema. Justifique sua escolha de pólos; procure incluir nessa justificativa, sua análise da questão 2.** "
   ]
  },
  {
   "cell_type": "markdown",
   "metadata": {},
   "source": []
  },
  {
   "attachments": {},
   "cell_type": "markdown",
   "metadata": {},
   "source": [
    "**4. Projete um observador de estados para o compensador do sistema. Justifique sua escolha de pólos com base naqueles que você escolheu na questão 3.**"
   ]
  },
  {
   "cell_type": "markdown",
   "metadata": {},
   "source": []
  },
  {
   "attachments": {},
   "cell_type": "markdown",
   "metadata": {},
   "source": [
    "5. Faça uma simulação em malha fechada deste sistema. Analise a viabilidade "
   ]
  }
 ],
 "metadata": {
  "kernelspec": {
   "display_name": "Python 3",
   "language": "python",
   "name": "python3"
  },
  "language_info": {
   "codemirror_mode": {
    "name": "ipython",
    "version": 3
   },
   "file_extension": ".py",
   "mimetype": "text/x-python",
   "name": "python",
   "nbconvert_exporter": "python",
   "pygments_lexer": "ipython3",
   "version": "3.11.1"
  },
  "orig_nbformat": 4
 },
 "nbformat": 4,
 "nbformat_minor": 2
}
