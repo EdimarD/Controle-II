{
 "cells": [
  {
   "attachments": {},
   "cell_type": "markdown",
   "metadata": {},
   "source": [
    "# Compensador integral"
   ]
  },
  {
   "attachments": {},
   "cell_type": "markdown",
   "metadata": {},
   "source": [
    "Já aprendemos a projetar um regulador de estados com controle integral. Com isso, podemos realizar um compensador com integrador, o que nos fornece uma solução de controle em malha fechada relativamente completa. \n",
    "\n",
    "Pelo princípio da separação, o algoritmo de projeto fica bastante simples: projete o regulador integral e o observador de forma separada, seguindo os passos já descritos."
   ]
  },
  {
   "attachments": {},
   "cell_type": "markdown",
   "metadata": {},
   "source": [
    "O único detalhe que precisamos atentar é que o regulador é projetado com as matrizes aumentadas, mas o observador não necessariamente. Basta utilizar a informação original do sistema (isto é, $\\mathbf{A}$ e $\\mathbf{C}$).\n",
    "\n",
    "Note que isso é uma opção. Em tese, você pode usar as matrizes aumentadas para projeto do observador, mas isso não seria produtivo, uma vez que o estado aumentado é apenas um artificio para zerar o erro de regime; fazer o observador estimar este estado é desnecessário e apenas aumentaria a ordem do sistema sem nenhum propósito real. "
   ]
  },
  {
   "attachments": {},
   "cell_type": "markdown",
   "metadata": {},
   "source": [
    "Para finalizar o compensador, devemos calcular o observador de estados. O projeto é feito normalmente, sem aumentar as matrizes. Isso porque o novo estado é calculado diretamente da saída e não precisa ser estimado."
   ]
  },
  {
   "attachments": {},
   "cell_type": "markdown",
   "metadata": {},
   "source": [
    "## Equações de estado do compensador:\n",
    "\n",
    "Suponhamos que o observador seja:\n",
    "$$\n",
    "    \\dot{\\mathbf{\\hat{x}}} = \\mathbf{A}\\hat{\\mathbf{x}}+\\mathbf{B}u + \\mathbf{L}(y-\\mathbf{C}\\mathbf{\\hat{x}})\n",
    "$$"
   ]
  },
  {
   "attachments": {},
   "cell_type": "markdown",
   "metadata": {},
   "source": [
    "Com a adição de um integrador temos:\n",
    "$$\n",
    "\\dot{e} = y -r\n",
    "$$"
   ]
  },
  {
   "attachments": {},
   "cell_type": "markdown",
   "metadata": {},
   "source": [
    "Para o compensador, a ação de controle será $u = -\\mathbf{K}_a\\left[\\begin{array}{cc}\\mathbf{\\hat{x}} & e\\end{array}\\right]$, onde $\\mathbf{K}_a$ é projetado com as matrizes aumentadas. Lembre-se que temos que usar $\\mathbf{\\hat{x}}$ na ação de controle, ao invés de $\\mathbf{x}$. \n"
   ]
  },
  {
   "attachments": {},
   "cell_type": "markdown",
   "metadata": {},
   "source": [
    "Para escrever o compensador no espaço de estados, vamos usar uma notação compacta. Vamos fazer $\\mathbf{z}=\\left[\\begin{array}{cc}\\mathbf{\\hat{x}} & e\\end{array}\\right]$."
   ]
  },
  {
   "attachments": {},
   "cell_type": "markdown",
   "metadata": {},
   "source": [
    "Juntando todas as equações, temos que a equação de estados matricial do compensador integral será:\n",
    "$$\n",
    "\\begin{align*}\n",
    "    \\dot{\\mathbf{z}}&=\n",
    "    (\\mathbf{A'}-\\mathbf{B'}\\mathbf{K}_a-\\mathbf{L}_a\\mathbf{C'})\n",
    "    \\mathbf{z}+\n",
    "    \\left[\\begin{array}{cc}\\mathbf{0} & \\mathbf{L}\\\\ 1 & -1\\end{array}\\right]\n",
    "    \\left[\\begin{array}{c} r\\\\ y\\end{array}\\right]\n",
    "\\end{align*}\n",
    "$$\n",
    "onde:\n",
    "$$\n",
    "\\begin{align}\n",
    "    \\mathbf{A'} &= \\left[\\begin{array}{rr}\n",
    "        \\mathbf{A} & \\mathbf{0}\\\\ \\mathbf{0} & 0\n",
    "    \\end{array}\\right]\\\\\n",
    "    \\mathbf{B'} &= \\left[\\begin{array}{rr}\n",
    "        \\mathbf{B} \\\\ 0\n",
    "    \\end{array}\\right]\\\\\n",
    "    \\mathbf{C'} &= \\left[\\begin{array}{rr}\n",
    "        \\mathbf{C} & 0\n",
    "    \\end{array}\\right]\\\\\n",
    "    \\mathbf{L}_a &= \\left[\\begin{array}{rr}\n",
    "        \\mathbf{L} \\\\ 0\n",
    "    \\end{array}\\right]\n",
    "\\end{align}\n",
    "$$"
   ]
  },
  {
   "attachments": {},
   "cell_type": "markdown",
   "metadata": {},
   "source": [
    "A saída do compensador é o sinal de controle $u = -\\mathbf{K}_a\\mathbf{z}$. "
   ]
  },
  {
   "attachments": {},
   "cell_type": "markdown",
   "metadata": {},
   "source": [
    "Note que o compensador usa **duas entradas**: a referência e a saída da planta. Podemos enxergá-lo através de duas funções de transferência: uma de $Y$ para $U$ e outra de $R$ para $U$. Assim, a saída do controlador poderia ser descrita como:\n",
    "$$\n",
    "\\begin{align}\n",
    "    U(s) = C_1(s)Y(s)+C_2(s)R(s)\n",
    "\\end{align}\n",
    "$$\n",
    "\n",
    "As funções de transferência $C_1(s)$ e $C_2(s)$ podem ser calculadas pelas matrizes usando a expressão que já estudamos. "
   ]
  },
  {
   "attachments": {},
   "cell_type": "markdown",
   "metadata": {},
   "source": [
    "Do ponto de vista de fluxo de sinal, o sistema em malha fechada funciona conforme o diagrama de blocos a seguir\n",
    "\n",
    "<p align=\"center\">\n",
    "<img src=\"controleIntegral.svg\" width=\"60%\">\n",
    "</p>\n",
    "\n",
    "Esse diagrama pode ser modificado para utilizar a estrutura convencional de controle com realimentação unitária, mas nesse caso, o bloco que alimenta a referência sofre modificação (*desafio: verifique que diagrama é esse*)"
   ]
  },
  {
   "attachments": {},
   "cell_type": "markdown",
   "metadata": {},
   "source": [
    "## Equações em malha fechada\n",
    "\n",
    "Para simplificar, vamos supor que $J=0$ e que em malha aberta o sistema é de ordem $n$. \n",
    "\n",
    "Em malha fechada o sistema ficará de ordem $2n+1$. \n",
    "\n",
    "As seguintes dimensões se aplicam:\n",
    "- $\\mathbf{K_a}\\longrightarrow (1 \\times n+1)$ \n",
    "- $\\mathbf{L}\\longrightarrow (n \\times 1)$ \n",
    "- $\\mathbf{A'} \\longrightarrow (n+1 \\times n+1)$ \n",
    "- $\\mathbf{B'} \\longrightarrow (n+1 \\times 1)$ \n",
    "- $\\mathbf{C'} \\longrightarrow (1 \\times n+1)$ "
   ]
  },
  {
   "attachments": {},
   "cell_type": "markdown",
   "metadata": {},
   "source": [
    "\n",
    "A entrada passa a ser apenas a referência, e devemos substituir $y=\\mathbf{Cx}$. Assim temos:\n",
    "$$\n",
    "\\begin{align*}\n",
    "    \\dot{\\mathbf{x}} &= \\mathbf{Ax}-\\mathbf{B}\\mathbf{K}_a{\\mathbf{z}}\\\\\n",
    "    \\dot{{\\mathbf{z}}} &= (\\mathbf{A'}-\\mathbf{B'}\\mathbf{K}_a-\\mathbf{L}_a\\mathbf{C'})\\mathbf{z}+\n",
    "    \\left[\\begin{array}{cc}\\mathbf{0} \\\\ 1\\end{array}\\right]r+\n",
    "    \\left[\\begin{array}{cc}\\mathbf{L}\\\\  -1\\end{array}\\right]\\mathbf{Cx}\\\\\n",
    "    y &= \\mathbf{Cx}\n",
    "\\end{align*}\n",
    "$$"
   ]
  },
  {
   "attachments": {},
   "cell_type": "markdown",
   "metadata": {},
   "source": [
    "Em termos de matrizes fica:\n",
    "$$\n",
    "\\begin{align*}\n",
    "    \\mathbf{A}_{\\text{mf}} &= \\left[\\begin{array}{ccc}\n",
    "    \\mathbf{A} & & -\\mathbf{B}\\mathbf{K_a}\\\\ \\\\\n",
    "    \\mathbf{F} & &\n",
    "    \\mathbf{A'}-\\mathbf{B'}\\mathbf{K}_a-\\mathbf{L}_a\\mathbf{C'}\n",
    "    \\end{array}\\right]\\\\\n",
    "    \\mathbf{B}_{\\text{mf}} &= \\left[\\begin{array}{ccc}\n",
    "    \\mathbf{0}_{2n,\\, 1}\\\\ 1\n",
    "    \\end{array}\\right]\\\\\n",
    "    \\mathbf{C}_{\\text{mf}} &= \\left[\\begin{array}{ccc}\n",
    "    \\mathbf{C} & \\mathbf{0}_{1,n+1}\n",
    "    \\end{array}\\right]\n",
    "\\end{align*}\n",
    "$$\n",
    "\n",
    "onde, para simplificar, definimos:\n",
    "$$\n",
    "\\mathbf{F} = \\left[\\begin{array}{cc}\\mathbf{L}\\\\  -1\\end{array}\\right]\\mathbf{C}\n",
    "$$\n",
    "que é dimensão ${n+1\\times n}$\n",
    "\n",
    "Se desejar, adicione uma coluna à matriz $\\mathbf{B}_{mf}$ para simular perturbações. "
   ]
  },
  {
   "attachments": {},
   "cell_type": "markdown",
   "metadata": {},
   "source": [
    "## Exemplo:\n",
    "\n",
    "Construa um compensador com controle integral para o sistema\n",
    "$$\n",
    "\\begin{align}\n",
    "    G(s) = \\frac{10}{(s+1)(s+2)}\n",
    "\\end{align}\n",
    "$$\n",
    "para que $\\xi = 0.7$ e $\\omega_n=2$.\n"
   ]
  },
  {
   "cell_type": "code",
   "execution_count": 2,
   "metadata": {
    "code_folding": [
     0
    ],
    "run_control": {
     "marked": false
    }
   },
   "outputs": [],
   "source": [
    "# Imports\n",
    "import numpy as np\n",
    "import control as ct\n",
    "from IPython.display import display, Math\n",
    "from escrever import *\n",
    "esc = escrever()"
   ]
  },
  {
   "cell_type": "code",
   "execution_count": 3,
   "metadata": {
    "code_folding": [
     0
    ]
   },
   "outputs": [
    {
     "name": "stdout",
     "output_type": "stream",
     "text": [
      "Pólos do regulador:  [-1.4+1.4283j -1.4-1.4283j -5.6+0.j    ]\n"
     ]
    }
   ],
   "source": [
    "# Polos desejados\n",
    "xi = 0.7\n",
    "wn = 2\n",
    "sigma = xi*wn\n",
    "p = -sigma + 1j*wn*np.sqrt(1-xi**2)\n",
    "p_reg = np.array([p,np.conj(p),-4*sigma])\n",
    "print('Pólos do regulador: ', p_reg.round(4))"
   ]
  },
  {
   "cell_type": "code",
   "execution_count": 4,
   "metadata": {
    "code_folding": [
     0
    ]
   },
   "outputs": [
    {
     "data": {
      "text/latex": [
       "$\\displaystyle \\dot{\\mathbf{x}} = \\left[\\begin{array}{rr}-3&-2\\\\1&0\\\\\\end{array}\\right]\\mathbf{x}+\\left[\\begin{array}{r}1\\\\0\\\\\\end{array}\\right]\\mathbf{u}$"
      ],
      "text/plain": [
       "<IPython.core.display.Math object>"
      ]
     },
     "metadata": {},
     "output_type": "display_data"
    },
    {
     "data": {
      "text/latex": [
       "$\\displaystyle \\mathbf{y} = \\left[\\begin{array}{rr}0&10\\\\\\end{array}\\right]\\mathbf{x} + \\left[\\begin{array}{r}0.0\\\\\\end{array}\\right]\\mathbf{u}$"
      ],
      "text/plain": [
       "<IPython.core.display.Math object>"
      ]
     },
     "metadata": {},
     "output_type": "display_data"
    }
   ],
   "source": [
    "# Matrizes do sistema em FCC\n",
    "A = np.array([[-3,-2],[1,0]])\n",
    "B = np.array([[1],[0]])\n",
    "C = np.array([[0,10]])\n",
    "D = np.zeros((1,1))\n",
    "\n",
    "sys = ct.ss(A,B,C,D)\n",
    "esc.sist(A,B,C,D)"
   ]
  },
  {
   "cell_type": "code",
   "execution_count": 5,
   "metadata": {
    "code_folding": [
     0
    ]
   },
   "outputs": [
    {
     "data": {
      "text/latex": [
       "$$\\frac{10}{s^2 + 3 s + 2}$$"
      ],
      "text/plain": [
       "TransferFunction(array([10.]), array([1., 3., 2.]))"
      ]
     },
     "execution_count": 5,
     "metadata": {},
     "output_type": "execute_result"
    }
   ],
   "source": [
    "# Função de transf. de malha aberta\n",
    "ct.tf(sys)"
   ]
  },
  {
   "cell_type": "code",
   "execution_count": 6,
   "metadata": {
    "code_folding": [
     0
    ]
   },
   "outputs": [
    {
     "data": {
      "text/latex": [
       "$\\displaystyle \\mathbf{A}_a = \\left[\\begin{array}{rrr}-3.0&-2.0&0.0\\\\1.0&0.0&0.0\\\\0.0&-10.0&0.0\\\\\\end{array}\\right]$"
      ],
      "text/plain": [
       "<IPython.core.display.Math object>"
      ]
     },
     "metadata": {},
     "output_type": "display_data"
    },
    {
     "data": {
      "text/latex": [
       "$\\displaystyle \\mathbf{B}_a = \\left[\\begin{array}{r}1\\\\0\\\\0\\\\\\end{array}\\right]$"
      ],
      "text/plain": [
       "<IPython.core.display.Math object>"
      ]
     },
     "metadata": {},
     "output_type": "display_data"
    }
   ],
   "source": [
    "# Matrizes do sistema aumentado\n",
    "Aa = np.block([[A,np.zeros((2,1))],[-C,0]])           # [F  | 0]\n",
    "Ba = np.block([[B],[0]])\n",
    "display(Math(r'\\mathbf{A}_a = ' + esc.mat(Aa)))\n",
    "display(Math(r'\\mathbf{B}_a = ' + esc.mat(Ba)))\n"
   ]
  },
  {
   "cell_type": "code",
   "execution_count": 7,
   "metadata": {
    "code_folding": [
     0
    ]
   },
   "outputs": [
    {
     "data": {
      "text/latex": [
       "$\\displaystyle \\mathbf{K}_a = \\left[\\begin{array}{rrr}5.4&17.68&-2.24\\\\\\end{array}\\right]$"
      ],
      "text/plain": [
       "<IPython.core.display.Math object>"
      ]
     },
     "metadata": {},
     "output_type": "display_data"
    }
   ],
   "source": [
    "# Regulador com integrador\n",
    "Ka = ct.acker(Aa,Ba,p_reg)\n",
    "display(Math(r'\\mathbf{K}_a = ' + esc.mat(Ka.round(4))))"
   ]
  },
  {
   "cell_type": "code",
   "execution_count": 8,
   "metadata": {
    "code_folding": [
     0
    ],
    "run_control": {
     "marked": false
    }
   },
   "outputs": [
    {
     "data": {
      "text/latex": [
       "$\\displaystyle \\mathbf{L} = \\left[\\begin{array}{r}6.524\\\\1.94\\\\\\end{array}\\right]$"
      ],
      "text/plain": [
       "<IPython.core.display.Math object>"
      ]
     },
     "metadata": {},
     "output_type": "display_data"
    }
   ],
   "source": [
    "# Observador\n",
    "p_obs = [-8*sigma]*2                    # [-8*sigma]*2 => [-8*sigma, -8*sigma]\n",
    "L = ct.acker(A.T,C.T, p_obs).T        \n",
    "display(Math(r'\\mathbf{L} = ' + esc.mat(L)))"
   ]
  },
  {
   "cell_type": "code",
   "execution_count": 12,
   "metadata": {
    "code_folding": [
     0
    ],
    "run_control": {
     "marked": false
    }
   },
   "outputs": [
    {
     "data": {
      "text/latex": [
       "$\\displaystyle \\dot{\\mathbf{x}} = \\left[\\begin{array}{rrrrr}-3.0&-2.0&-5.4&-17.68&2.24\\\\1.0&0.0&0.0&0.0&0.0\\\\0.0&65.24&-8.4&-84.92&2.24\\\\0.0&19.4&1.0&-19.4&0.0\\\\0.0&-10.0&0.0&0.0&0.0\\\\\\end{array}\\right]\\mathbf{x}+\\left[\\begin{array}{r}0.0\\\\0.0\\\\0.0\\\\0.0\\\\1.0\\\\\\end{array}\\right]\\mathbf{u}$"
      ],
      "text/plain": [
       "<IPython.core.display.Math object>"
      ]
     },
     "metadata": {},
     "output_type": "display_data"
    },
    {
     "data": {
      "text/latex": [
       "$\\displaystyle \\mathbf{y} = \\left[\\begin{array}{rrrrr}0.0&10.0&0.0&0.0&0.0\\\\\\end{array}\\right]\\mathbf{x} + \\left[\\begin{array}{r}0\\\\\\end{array}\\right]\\mathbf{u}$"
      ],
      "text/plain": [
       "<IPython.core.display.Math object>"
      ]
     },
     "metadata": {},
     "output_type": "display_data"
    }
   ],
   "source": [
    "# Sistema em malha fechada\n",
    "n = A.shape[0]\n",
    "F = np.block([[L],[-1]]) @ C\n",
    "Ap = np.block([[A, np.zeros((n,1))],[np.zeros((1,n)), 0]])\n",
    "Bp = np.block([[B],[0]])\n",
    "Cp = np.block([C,0])\n",
    "La = np.block([[L],[0]])\n",
    "\n",
    "Amf = np.block([[A, -B@Ka],\n",
    "                [F, Ap-Bp@Ka-La@Cp]])\n",
    "Bmf = np.block([[np.zeros((2*n,1))],[1]])\n",
    "Cmf = np.block([[C,np.zeros((1,n+1))]])\n",
    "Dmf = np.array([[0]])\n",
    "                \n",
    "# Espaço de estados para o sistema em MF, saída y, entrada r\n",
    "MF = ct.ss(Amf,Bmf,Cmf,Dmf)\n",
    "esc.sist(Amf.round(4),Bmf.round(4),Cmf.round(4),Dmf)"
   ]
  },
  {
   "cell_type": "code",
   "execution_count": 13,
   "metadata": {},
   "outputs": [
    {
     "data": {
      "text/latex": [
       "$$\\frac{-2.842 \\times 10^{-14} s^4 - 7.39 \\times 10^{-13} s^3 + 22.4 s^2 + 501.8 s + 2810}{s^5 + 30.8 s^4 + 333.3 s^3 + 1517 s^2 + 2970 s + 2810}$$"
      ],
      "text/plain": [
       "TransferFunction(array([-2.84217094e-14, -7.38964445e-13,  2.24000000e+01,  5.01760000e+02,\n",
       "        2.80985600e+03]), array([1.0000000e+00, 3.0800000e+01, 3.3328000e+02, 1.5169280e+03,\n",
       "       2.9704192e+03, 2.8098560e+03]))"
      ]
     },
     "execution_count": 13,
     "metadata": {},
     "output_type": "execute_result"
    }
   ],
   "source": [
    "# Função de transf. em malha fechada\n",
    "ct.tf(MF)"
   ]
  },
  {
   "cell_type": "code",
   "execution_count": 14,
   "metadata": {
    "code_folding": [
     0
    ],
    "run_control": {
     "marked": false
    }
   },
   "outputs": [
    {
     "name": "stdout",
     "output_type": "stream",
     "text": [
      "_____Eigenvalue______ Damping___ Frequency_\n",
      "     -11.2                     1       11.2\n",
      "     -11.2                     1       11.2\n",
      "      -1.4    +1.428j        0.7          2\n",
      "      -1.4    -1.428j        0.7          2\n",
      "      -5.6                     1        5.6\n",
      "Zeros: \n",
      "[-11.2+0.j -11.2+0.j]\n",
      "\n",
      "Pólos desejados (regulador): \n",
      "[-1.4+1.4283j -1.4-1.4283j -5.6+0.j    ]\n",
      "\n",
      "Pólos desejados (observador): \n",
      "[-11.2 -11.2]\n"
     ]
    }
   ],
   "source": [
    "# Vamos analisar polos e zeros de malha fechada\n",
    "tabela=ct.damp(MF)\n",
    "\n",
    "print('Zeros: ')\n",
    "print(round(ct.zeros(MF),4))\n",
    "print('')\n",
    "# Vale a pena comparar com os zeros do sistema e polos desejados originais, regulador e observador\n",
    "print('Pólos desejados (regulador): ')\n",
    "print(p_reg.round(4))\n",
    "print('')\n",
    "print('Pólos desejados (observador): ')\n",
    "print(round(p_obs,4))\n"
   ]
  },
  {
   "cell_type": "code",
   "execution_count": 37,
   "metadata": {
    "code_folding": [
     0
    ]
   },
   "outputs": [],
   "source": [
    "# Simulação em malha fechada (y)\n",
    "resp = ct.step_response(MF,6)\n",
    "u = -Ka@resp.states[n:,:]"
   ]
  },
  {
   "cell_type": "code",
   "execution_count": 36,
   "metadata": {
    "code_folding": [
     0
    ],
    "run_control": {
     "marked": false
    }
   },
   "outputs": [
    {
     "data": {
      "image/png": "[encoded data removed]",
      "text/plain": [
       "<Figure size 1500x480 with 2 Axes>"
      ]
     },
     "metadata": {},
     "output_type": "display_data"
    }
   ],
   "source": [
    "# Resultado\n",
    "from matplotlib import pyplot as plt\n",
    "\n",
    "plt.figure().set_figwidth(15)\n",
    "plt.subplot(211)\n",
    "plt.plot(resp.t,resp.outputs)\n",
    "plt.ylim([0,np.max(resp.outputs)*1.2])\n",
    "plt.ylabel('Saída')\n",
    "plt.legend('y')\n",
    "plt.title('Resposta ao degrau unitário')\n",
    "plt.grid()\n",
    "plt.subplot(212)\n",
    "plt.plot(resp.t,u.T, 'r')\n",
    "plt.ylim([0,np.max(u)*1.2])\n",
    "plt.ylabel('Controle')\n",
    "plt.legend('u')\n",
    "plt.grid()\n",
    "plt.show()"
   ]
  }
 ],
 "metadata": {
  "kernelspec": {
   "display_name": "Python 3 (ipykernel)",
   "language": "python",
   "name": "python3"
  },
  "language_info": {
   "codemirror_mode": {
    "name": "ipython",
    "version": 3
   },
   "file_extension": ".py",
   "mimetype": "text/x-python",
   "name": "python",
   "nbconvert_exporter": "python",
   "pygments_lexer": "ipython3",
   "version": "3.11.1"
  },
  "vscode": {
   "interpreter": {
    "hash": "3e3763a57b4ffe0d06e963ec4b7f8ef3a748cbfdb342037439726ee83e94c05b"
   }
  }
 },
 "nbformat": 4,
 "nbformat_minor": 4
}
