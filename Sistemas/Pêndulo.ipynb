{
 "cells": [
  {
   "attachments": {},
   "cell_type": "markdown",
   "metadata": {},
   "source": [
    "# Modelo linearizado do pêndulo invertido."
   ]
  },
  {
   "cell_type": "markdown",
   "metadata": {},
   "source": [
    "<center> <img src='Cart-pendulum.svg' width='30%'> </center>"
   ]
  },
  {
   "cell_type": "markdown",
   "metadata": {},
   "source": [
    "### Equações de movimento\n",
    "\n",
    "$$\n",
    "\\begin{align}\n",
    "    (M+m)\\ddot{x} +b\\dot{x}+ ml\\ddot{\\theta}\\,\\cos \\theta - ml\\dot{\\theta}^2\\,\\sin \\theta &= F\\\\\n",
    "    (I+ml^2)\\ddot{\\theta}  + mgl\\,\\sin\\theta +ml\\ddot{x}\\,\\cos \\theta&=0\n",
    "\\end{align}\n",
    "$$"
   ]
  },
  {
   "attachments": {},
   "cell_type": "markdown",
   "metadata": {},
   "source": [
    "### Equilíbrio\n",
    "\n",
    "\\begin{align}\n",
    "    (M+m)\\cancel{\\ddot{x}} +b\\cancel{\\dot{x}}+ ml\\cancel{\\ddot{\\theta}}\\,\\cos \\theta - ml\\cancel{\\dot{\\theta^2}}\\,\\sin \\theta &= F\\\\\n",
    "    (I+ml^2)\\cancel{\\ddot{\\theta}}  + mgl\\,\\sin\\theta +ml\\cancel{\\ddot{x}}\\,\\cos \\theta&=0\n",
    "\\end{align}\n",
    "\n",
    "\\begin{align}\n",
    "    F &= 0\\\\\n",
    "    \\sin \\theta &= 0 \\Rightarrow \\theta = 0,\\quad \\theta = \\pi\n",
    "\\end{align}\n",
    "\n",
    "**Primeiro ponto**: $\\dot{x}_0=0$, $\\dot{\\theta}_0=0$, $\\theta_0=0$, $x_0$ = qualquer.\n",
    "\n",
    "**Segundo ponto**: $\\dot{x}_0=0$, $\\dot{\\theta}_0=0$, $\\theta_0=\\pi$, $x_0$ = qualquer."
   ]
  },
  {
   "attachments": {},
   "cell_type": "markdown",
   "metadata": {},
   "source": [
    "## Linearização"
   ]
  },
  {
   "cell_type": "code",
   "execution_count": 35,
   "metadata": {},
   "outputs": [],
   "source": [
    "# Símbolos\n",
    "import sympy as sp\n",
    "M = sp.symbols('M', positive = True)\n",
    "m = sp.symbols('m', positive = True)\n",
    "g = sp.symbols('g', positive = True)\n",
    "b = sp.symbols('b', positive = True)\n",
    "l = sp.symbols('l', positive = True)\n",
    "F = sp.symbols('F', positive = True)\n",
    "I = sp.symbols('I', positive = True)\n",
    "t = sp.Symbol('t')\n",
    "x = sp.Function('x')(t)\n",
    "th = sp.Function('theta')(t)\n",
    "v = sp.Function('v')(t)\n",
    "w = sp.Function('omega')(t)\n",
    "dv = sp.Derivative(v,t)\n",
    "dw = sp.Derivative(w,t)\n"
   ]
  },
  {
   "cell_type": "code",
   "execution_count": 36,
   "metadata": {},
   "outputs": [
    {
     "data": {
      "text/latex": [
       "$\\displaystyle \\left\\{ \\frac{d}{d t} \\omega{\\left(t \\right)} : - \\frac{F l m \\cos{\\left(\\theta{\\left(t \\right)} \\right)}}{I M + I l m \\cos{\\left(\\theta{\\left(t \\right)} \\right)} + I m + M^{2} l^{2} + M l^{3} m \\cos{\\left(\\theta{\\left(t \\right)} \\right)} + M l^{2} m} - \\frac{M g l m \\sin{\\left(\\theta{\\left(t \\right)} \\right)}}{I M + I l m \\cos{\\left(\\theta{\\left(t \\right)} \\right)} + I m + M^{2} l^{2} + M l^{3} m \\cos{\\left(\\theta{\\left(t \\right)} \\right)} + M l^{2} m} + \\frac{b l m v{\\left(t \\right)} \\cos{\\left(\\theta{\\left(t \\right)} \\right)}}{I M + I l m \\cos{\\left(\\theta{\\left(t \\right)} \\right)} + I m + M^{2} l^{2} + M l^{3} m \\cos{\\left(\\theta{\\left(t \\right)} \\right)} + M l^{2} m} - \\frac{g l^{2} m^{2} \\sin{\\left(\\theta{\\left(t \\right)} \\right)} \\cos{\\left(\\theta{\\left(t \\right)} \\right)}}{I M + I l m \\cos{\\left(\\theta{\\left(t \\right)} \\right)} + I m + M^{2} l^{2} + M l^{3} m \\cos{\\left(\\theta{\\left(t \\right)} \\right)} + M l^{2} m} - \\frac{g l m^{2} \\sin{\\left(\\theta{\\left(t \\right)} \\right)}}{I M + I l m \\cos{\\left(\\theta{\\left(t \\right)} \\right)} + I m + M^{2} l^{2} + M l^{3} m \\cos{\\left(\\theta{\\left(t \\right)} \\right)} + M l^{2} m} - \\frac{l^{2} m^{2} \\omega^{2}{\\left(t \\right)} \\sin{\\left(\\theta{\\left(t \\right)} \\right)} \\cos{\\left(\\theta{\\left(t \\right)} \\right)}}{I M + I l m \\cos{\\left(\\theta{\\left(t \\right)} \\right)} + I m + M^{2} l^{2} + M l^{3} m \\cos{\\left(\\theta{\\left(t \\right)} \\right)} + M l^{2} m}, \\  \\frac{d}{d t} v{\\left(t \\right)} : \\frac{F}{M + l m \\cos{\\left(\\theta{\\left(t \\right)} \\right)} + m} - \\frac{b v{\\left(t \\right)}}{M + l m \\cos{\\left(\\theta{\\left(t \\right)} \\right)} + m} + \\frac{l m \\omega^{2}{\\left(t \\right)} \\sin{\\left(\\theta{\\left(t \\right)} \\right)}}{M + l m \\cos{\\left(\\theta{\\left(t \\right)} \\right)} + m}\\right\\}$"
      ],
      "text/plain": [
       "<IPython.core.display.Math object>"
      ]
     },
     "metadata": {},
     "output_type": "display_data"
    }
   ],
   "source": [
    "# Equações de movimento; isola as acelerações\n",
    "Emov = [0,0]\n",
    "from sympy import sin, cos\n",
    "Emov[0] = sp.Eq((M+m)*dv+b*v+m*l*dv*cos(th)-m*l*w**2*sin(th), F)\n",
    "Emov[1] = sp.Eq((I+M*l**2)*dw + m*g*l*sin(th)+m*l*dv*cos(th),0)\n",
    "from IPython.display import display, Math\n",
    "ddots = sp.solve(Emov,[dv,dw])\n",
    "display(Math(sp.latex(ddots)))"
   ]
  },
  {
   "cell_type": "code",
   "execution_count": 37,
   "metadata": {},
   "outputs": [
    {
     "data": {
      "text/latex": [
       "$\\displaystyle \\mathbf{A} = \\left[\\begin{matrix}0 & 0 & 1 & 0\\\\0 & 0 & 0 & 1\\\\0 & 0 & \\frac{b}{- M + l m - m} & 0\\\\0 & \\frac{g l m}{I + M l^{2}} & \\frac{b l m}{\\left(I + M l^{2}\\right) \\left(- M + l m - m\\right)} & 0\\end{matrix}\\right]$"
      ],
      "text/plain": [
       "<IPython.core.display.Math object>"
      ]
     },
     "metadata": {},
     "output_type": "display_data"
    },
    {
     "data": {
      "text/latex": [
       "$\\displaystyle \\mathbf{B} = \\left[\\begin{matrix}0\\\\0\\\\- \\frac{1}{- M + l m - m}\\\\- \\frac{l m}{\\left(I + M l^{2}\\right) \\left(- M + l m - m\\right)}\\end{matrix}\\right]$"
      ],
      "text/plain": [
       "<IPython.core.display.Math object>"
      ]
     },
     "metadata": {},
     "output_type": "display_data"
    }
   ],
   "source": [
    "# Linearização\n",
    "equi = [(th,sp.pi ),(w,0),(v,0),(F,0)]\n",
    "J = [ddots[y].diff(z).subs(equi).factor()\n",
    "      for y in [dv,dw] for z in [x,th,v,w] ]\n",
    "J = sp.ImmutableMatrix(J)\n",
    "J = (J.reshape(2,4))\n",
    "A = sp.ImmutableMatrix([[0,0,1,0],[0,0,0,1]])\n",
    "A = sp.ImmutableMatrix(sp.BlockMatrix([[A],[J]]))\n",
    "display(Math(r'\\mathbf{A} = '  + sp.latex(A)))\n",
    "B = [ddots[y].diff(F).subs(equi).factor()\n",
    "      for y in [dv,dw]]\n",
    "B = sp.ImmutableMatrix([[0],[0],[B[0]],[B[1]]])\n",
    "display(Math(r'\\mathbf{B} = '  + sp.latex(B)))"
   ]
  },
  {
   "cell_type": "code",
   "execution_count": 38,
   "metadata": {},
   "outputs": [
    {
     "name": "stdout",
     "output_type": "stream",
     "text": [
      "Matrix([[0], [0], [-1/(-M + l*m - m)], [-l*m/((I + M*l**2)*(-M + l*m - m))]])\n"
     ]
    }
   ],
   "source": [
    "print(B)"
   ]
  },
  {
   "cell_type": "code",
   "execution_count": 39,
   "metadata": {},
   "outputs": [
    {
     "data": {
      "text/latex": [
       "$\\displaystyle \\dot{\\mathbf{x}} = \\left[\\begin{matrix}0 & 0 & 1 & 0\\\\0 & 0 & 0 & 1\\\\0 & 0 & \\frac{b}{- M + l m - m} & 0\\\\0 & \\frac{g l m}{I + M l^{2}} & \\frac{b l m}{\\left(I + M l^{2}\\right) \\left(- M + l m - m\\right)} & 0\\end{matrix}\\right]\\mathbf{x}+\\left[\\begin{matrix}0\\\\0\\\\- \\frac{1}{- M + l m - m}\\\\- \\frac{l m}{\\left(I + M l^{2}\\right) \\left(- M + l m - m\\right)}\\end{matrix}\\right]u$"
      ],
      "text/plain": [
       "<IPython.core.display.Math object>"
      ]
     },
     "metadata": {},
     "output_type": "display_data"
    },
    {
     "data": {
      "text/latex": [
       "$\\displaystyle \\mathbf{x} = \\left[\\begin{matrix}x{\\left(t \\right)}\\\\\\theta{\\left(t \\right)}\\\\v{\\left(t \\right)}\\\\\\omega{\\left(t \\right)}\\end{matrix}\\right]$"
      ],
      "text/plain": [
       "<IPython.core.display.Math object>"
      ]
     },
     "metadata": {},
     "output_type": "display_data"
    }
   ],
   "source": [
    "# Espaço de estados\n",
    "display(Math(r'\\dot{\\mathbf{x}} = ' + sp.latex(A) + r'\\mathbf{x}'\n",
    "             + '+' + sp.latex(B) + 'u'))\n",
    "X = sp.Matrix([x,th,v,w])\n",
    "display(Math(r'\\mathbf{x} = ' + sp.latex(X)))"
   ]
  },
  {
   "cell_type": "code",
   "execution_count": 40,
   "metadata": {},
   "outputs": [
    {
     "data": {
      "text/latex": [
       "$\\displaystyle - \\frac{l m s}{\\left(- b + s \\left(- M + l m - m\\right)\\right) \\left(- g l m + s^{2} \\left(I + M l^{2}\\right)\\right)}$"
      ],
      "text/plain": [
       "-l*m*s/((-b + s*(-M + l*m - m))*(-g*l*m + s**2*(I + M*l**2)))"
      ]
     },
     "execution_count": 40,
     "metadata": {},
     "output_type": "execute_result"
    }
   ],
   "source": [
    "s = sp.symbols('s',real=True)\n",
    "C = sp.ImmutableMatrix([[0,1,0,0]])\n",
    "params = [(m, 0.05), (M, 0.5), (g, 9.8), (b, 0.1), (I, 0), (l,10e-2)]\n",
    "den = sp.det(s*sp.eye(4)-A)\n",
    "D = sp.ImmutableDenseMatrix([[0]])\n",
    "num= sp.Matrix(sp.BlockMatrix([[s*sp.eye(4)-A, -B],[C, D]]))\n",
    "G = sp.det(num)/den\n",
    "G = G.factor().collect(s)\n",
    "G"
   ]
  }
 ],
 "metadata": {
  "kernelspec": {
   "display_name": "Python 3",
   "language": "python",
   "name": "python3"
  },
  "language_info": {
   "codemirror_mode": {
    "name": "ipython",
    "version": 3
   },
   "file_extension": ".py",
   "mimetype": "text/x-python",
   "name": "python",
   "nbconvert_exporter": "python",
   "pygments_lexer": "ipython3",
   "version": "3.11.1"
  },
  "orig_nbformat": 4
 },
 "nbformat": 4,
 "nbformat_minor": 2
}
