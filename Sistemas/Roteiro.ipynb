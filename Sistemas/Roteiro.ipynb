{
 "cells": [
  {
   "attachments": {},
   "cell_type": "markdown",
   "metadata": {},
   "source": [
    "# Roteiro básico de controle de sistemas"
   ]
  },
  {
   "attachments": {},
   "cell_type": "markdown",
   "metadata": {},
   "source": [
    "- Em malha aberta:\n",
    "    1. O sistema é controlável? E observável?\n",
    "    2. O sistema é estável?\n",
    "    3. Faça uma análise de pólos e zeros\n",
    "    4. Quais as margens de ganho e de fase?\n",
    "    5. Qual a resposta ao degrau unitário?\n",
    "    6. Qual a resposta em frequência?\n",
    "    7. Qual é o erro de regime permanente?"
   ]
  },
  {
   "attachments": {},
   "cell_type": "markdown",
   "metadata": {},
   "source": [
    "- Projeto de controle. Procure especificar o desempenho desejado **em relação** ao desempenho de malha aberta.\n",
    "    1. O que é possível atingir com controle proporcional?\n",
    "    2. Qual o overshoot/amortecimento desejado?\n",
    "    3. Qual o tempo de acomodação desejado?\n",
    "    4. Qual o erro de regime desejado?\n",
    "    5. Quantos integradores o projeto precisa?\n",
    "    6. Qual a margem de ganho desejada?\n",
    "    7. Qual a margem de fase desejada?\n",
    "    8. Qual a banda desejada?\n",
    "    9. Quais serão os pólos desejados? E o polinômio de malha?\n",
    "    10. Apresente a função de transferência ou as equações de estado do controlador"
   ]
  },
  {
   "attachments": {},
   "cell_type": "markdown",
   "metadata": {},
   "source": [
    "- Análise do resultado\n",
    "    1. Listar os pólos e zeros de malha fechada\n",
    "    2. Analisar a dominância\n",
    "    3. Analisar a resposta ao degrau: os requisitos no domínio do tempo foram atendidos?\n",
    "    4. Analisar o sinal de controle (resposta ao degrau): o custo é viável?\n",
    "    4. Analisar o diagrama de Bode: os requisitos no domínio da frequência foram atendidos?\n",
    "    5. Introduzir ruído e perturbações: o sistema consegue rejeitá-los?\n",
    "\n"
   ]
  }
 ],
 "metadata": {
  "kernelspec": {
   "display_name": "Python 3",
   "language": "python",
   "name": "python3"
  },
  "language_info": {
   "name": "python",
   "version": "3.11.1"
  },
  "orig_nbformat": 4
 },
 "nbformat": 4,
 "nbformat_minor": 2
}
