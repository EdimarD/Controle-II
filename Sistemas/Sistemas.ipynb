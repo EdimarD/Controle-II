{
 "cells": [
  {
   "attachments": {},
   "cell_type": "markdown",
   "metadata": {},
   "source": [
    "# Modelos de sistemas físicos"
   ]
  },
  {
   "attachments": {},
   "cell_type": "markdown",
   "metadata": {},
   "source": [
    "## *Pêndulo invertido no carro.*"
   ]
  },
  {
   "attachments": {},
   "cell_type": "markdown",
   "metadata": {},
   "source": [
    "<center> <img src='Cart-pendulum.svg' width='30%'> </center>"
   ]
  },
  {
   "attachments": {},
   "cell_type": "markdown",
   "metadata": {},
   "source": [
    "### Equações de movimento\n",
    "\n",
    "$$\n",
    "\\begin{align}\n",
    "    (M+m)\\ddot{x} +b\\dot{x}+ ml\\ddot{\\theta}\\,\\cos \\theta - ml\\dot{\\theta}^2\\,\\sin \\theta &= F\\\\\n",
    "    (I+ml^2)\\ddot{\\theta}  + mgl\\,\\sin\\theta +ml\\ddot{x}\\,\\cos \\theta&=0\n",
    "\\end{align}\n",
    "$$"
   ]
  },
  {
   "attachments": {},
   "cell_type": "markdown",
   "metadata": {},
   "source": [
    "### Equações linearizadas\n",
    "\n",
    "$\\theta = \\pi+\\phi$  \n",
    "$$\n",
    "\\begin{align}\n",
    "    (I+ml^2)\\ddot{\\phi}-mgl\\phi &= ml\\ddot{x}\\\\\n",
    "    (M+m)\\ddot{x}+b\\dot{x}-ml\\dot{\\phi} &= u\n",
    "\\end{align}\n",
    "$$"
   ]
  },
  {
   "attachments": {},
   "cell_type": "markdown",
   "metadata": {},
   "source": [
    "## *Suspensão de automóvel (1/4 de carro)*"
   ]
  },
  {
   "attachments": {},
   "cell_type": "markdown",
   "metadata": {},
   "source": [
    "<center> <img src='Suspensão.svg' width='100%'> </center>"
   ]
  },
  {
   "attachments": {},
   "cell_type": "markdown",
   "metadata": {},
   "source": [
    "### Equações de movimento:\n",
    "\n",
    "$$\n",
    "\\begin{align}\n",
    "    b(\\dot{y}-\\dot{x})+k_s(y-x)-k_w(x-r) &= m_1\\ddot{x}\\\\\n",
    "    -k_s(y-x)-b(\\dot{y}-\\dot{x})&= m_2\\ddot{y}\n",
    "\\end{align}\n",
    "$$"
   ]
  },
  {
   "attachments": {},
   "cell_type": "markdown",
   "metadata": {},
   "source": [
    "## *Ball-Beam*\n",
    "\n",
    "<center> <img src='ballbeam.png' width='100%'> </center>"
   ]
  },
  {
   "attachments": {},
   "cell_type": "markdown",
   "metadata": {},
   "source": [
    "### Equações de estado\n",
    "\n",
    "$$\n",
    "\\left[\\begin{array}{c}\n",
    "x_1\\\\x_2\\\\x_3\\\\x_4\\end{array}\\right] = \n",
    "\\left[\\begin{array}{c}\n",
    "r\\\\\\dot{r}\\\\\\theta\\\\\\dot{\\theta}\\end{array}\\right]\n",
    "$$\n",
    "\n",
    "$$\n",
    "\\left[\\begin{array}{c}\n",
    "\\dot{x}_1\\\\\\dot{x}_2\\\\\\dot{x}_3\\\\\\dot{x}_4\\end{array}\\right] = \n",
    "\\left[\\begin{array}{c}\n",
    "x_2\\\\\n",
    "\\frac{MR^2}{J_b+MR^2}\\left(x_1x_4^2-g\\sin x_3\\right)\\\\\n",
    "x_4\\\\\n",
    "\\frac{\\tau-M\\left(2x_1x_2x_4+gx_1\\cos x_3\\right)}{Mx_1^2+J+J_b}\\end{array}\\right]\n",
    "$$\n",
    "\n",
    "Referência: [PyMoskito](https://pymoskito.readthedocs.io/en/stable/index.html)\n"
   ]
  },
  {
   "attachments": {},
   "cell_type": "markdown",
   "metadata": {},
   "source": [
    "## *MAGLEV (levitação magnética)*"
   ]
  },
  {
   "attachments": {},
   "cell_type": "markdown",
   "metadata": {},
   "source": [
    "### Equação de movimento\n",
    "$$\n",
    "\\begin{align}\n",
    "    m\\ddot{x} = mg - \\frac{kI^2}{(x+\\mu)^2}\n",
    "\\end{align}\n",
    "$$"
   ]
  },
  {
   "attachments": {},
   "cell_type": "markdown",
   "metadata": {},
   "source": [
    "### Equação linearizada\n",
    "\n",
    "Equilíbrio: $kI_0^2 = mg(x_0+\\mu)^2$\n",
    "\n",
    "$\\Delta x = x-x_0$, $\\Delta I = I-I_0$\n",
    "$$\\begin{align}\n",
    "    m\\Delta \\ddot{x} &= -\\alpha \\Delta I + \\lambda \\Delta x\\\\\n",
    "    \\alpha &= \\frac{2kI_0}{(x_0+\\mu)^2}\\\\\n",
    "    \\lambda &= \\frac{2kI_0^2}{(x_0+\\mu)^3}\n",
    "\\end{align}$$"
   ]
  },
  {
   "attachments": {},
   "cell_type": "markdown",
   "metadata": {},
   "source": [
    "Braço robótico de 2-graus de liberdade"
   ]
  },
  {
   "cell_type": "markdown",
   "metadata": {},
   "source": []
  },
  {
   "attachments": {},
   "cell_type": "markdown",
   "metadata": {},
   "source": [
    "$$\n",
    "\\mathbf{M\\ddot{q}+ G = F} \n",
    "$$\n",
    "\n",
    "$$\n",
    "\\begin{align}\n",
    "    \\mathbf{q} &= \\left[\\begin{array}{cc} \\theta_1 & \\theta_2\\end{array}\\right]^T\\\\\n",
    "    \\mathbf{F} &= \\left[\\begin{array}{cc} F_1 & F_2\\end{array}\\right]^T\\\\\n",
    "    \\mathbf{M} &= \\left[\\begin{array}{cc}\n",
    "         I_1+ 2I_2\\cos \\theta_2 & I_3-I_2\\cos \\theta_2\\\\\n",
    "        I_3+I_2\\cos \\theta_2 & m_2L_2\n",
    "    \\end{array}\\right]\\\\\n",
    "    I_{1} &=(m_1+m_2)L_1^2 + m_2L_2^2\\\\\n",
    "    I_2 &=m_2L_1L_2\\\\\n",
    "    I_3 &=m_2L_2^2\n",
    "\\end{align}\n",
    "$$\n",
    "\n",
    "$$\n",
    "\\begin{align}\n",
    "    \\mathbf{G} &= \\left[\\begin{array}{c}\n",
    "\n",
    "\n",
    "\\end{array}\\right]\n",
    "\\end{align}\n",
    "$$"
   ]
  }
 ],
 "metadata": {
  "kernelspec": {
   "display_name": "Python 3",
   "language": "python",
   "name": "python3"
  },
  "language_info": {
   "name": "python",
   "version": "3.11.1"
  },
  "orig_nbformat": 4
 },
 "nbformat": 4,
 "nbformat_minor": 2
}
